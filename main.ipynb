{
 "cells": [
  {
   "cell_type": "markdown",
   "metadata": {},
   "source": [
    "# Efficiency Simulation"
   ]
  },
  {
   "cell_type": "code",
   "execution_count": 1,
   "metadata": {},
   "outputs": [],
   "source": [
    "from __future__ import annotations\n",
    "from dataclasses import dataclass\n",
    "from coordinates import Location, Checkpoint, device\n",
    "import math as m\n",
    "import copy\n",
    "from collections.abc import Callable\n",
    "\n",
    "from torch import FloatTensor, IntTensor, tensor\n",
    "import torch\n",
    "import torch.autograd.profiler as profiler\n",
    "from tqdm.auto import tqdm"
   ]
  },
  {
   "cell_type": "code",
   "execution_count": 2,
   "metadata": {},
   "outputs": [],
   "source": [
    "from graph import Graph, Node, Transition\n"
   ]
  },
  {
   "cell_type": "code",
   "execution_count": 3,
   "metadata": {},
   "outputs": [
    {
     "name": "stdout",
     "output_type": "stream",
     "text": [
      "Found 2696 checkpoints\n"
     ]
    }
   ],
   "source": [
    "import pandas as pd\n",
    "from coordinates import Checkpoint, Location, device\n",
    "from torch import tensor\n",
    "\n",
    "track_data = pd.read_csv(\"./sem_2023_us.csv\")\n",
    "\n",
    "track_data = track_data.rename(columns={\n",
    "    \"Metres above sea level\": \"Altitude\"\n",
    "})\n",
    "\n",
    "checkpoints: list[Checkpoint] = []\n",
    "for i, row in track_data.iterrows():\n",
    "    location = Location.construct(row[\"Latitude\"], row[\"Longitude\"], row[\"Altitude\"])\n",
    "    checkpoints.append(Checkpoint(location, location))\n",
    "\n",
    "print(f\"Found {len(checkpoints)} checkpoints\")"
   ]
  },
  {
   "cell_type": "code",
   "execution_count": 4,
   "metadata": {},
   "outputs": [
    {
     "name": "stdout",
     "output_type": "stream",
     "text": [
      "Checkpoint(left=Location(x=tensor(59843.8059, device='cuda:0', dtype=torch.float64), y=tensor(35436.9146, device='cuda:0', dtype=torch.float64), z=tensor(-3.3495, device='cuda:0', dtype=torch.float64)), right=Location(x=tensor(59843.8059, device='cuda:0', dtype=torch.float64), y=tensor(35436.9146, device='cuda:0', dtype=torch.float64), z=tensor(-3.3495, device='cuda:0', dtype=torch.float64)))\n",
      "left: Location(x=tensor(59843.8059, device='cuda:0', dtype=torch.float64), y=tensor(35436.9146, device='cuda:0', dtype=torch.float64), z=tensor(-3.3495, device='cuda:0', dtype=torch.float64)), right: Location(x=tensor(59843.8059, device='cuda:0', dtype=torch.float64), y=tensor(35436.9146, device='cuda:0', dtype=torch.float64), z=tensor(-3.3495, device='cuda:0', dtype=torch.float64)), distance: 0.0\n",
      "Location(x=tensor(59843.8059, device='cuda:0', dtype=torch.float64), y=tensor(35436.9146, device='cuda:0', dtype=torch.float64), z=tensor(-3.3495, device='cuda:0', dtype=torch.float64))\n"
     ]
    },
    {
     "name": "stderr",
     "output_type": "stream",
     "text": [
      "0it [00:00, ?it/s]"
     ]
    },
    {
     "name": "stdout",
     "output_type": "stream",
     "text": [
      "Processing checkpoint 0. Layer size: 1\n",
      "left: Location(x=tensor(59864.9894, device='cuda:0', dtype=torch.float64), y=tensor(35466.9803, device='cuda:0', dtype=torch.float64), z=tensor(-3.3799, device='cuda:0', dtype=torch.float64)), right: Location(x=tensor(59864.9894, device='cuda:0', dtype=torch.float64), y=tensor(35466.9803, device='cuda:0', dtype=torch.float64), z=tensor(-3.3799, device='cuda:0', dtype=torch.float64)), distance: 0.0\n"
     ]
    },
    {
     "name": "stderr",
     "output_type": "stream",
     "text": [
      "100%|██████████| 1/1 [00:00<00:00, 19.69it/s]"
     ]
    },
    {
     "name": "stdout",
     "output_type": "stream",
     "text": [
      "Processing checkpoint 1. Layer size: 121\n",
      "left: Location(x=tensor(59891.1727, device='cuda:0', dtype=torch.float64), y=tensor(35498.3446, device='cuda:0', dtype=torch.float64), z=tensor(-3.3858, device='cuda:0', dtype=torch.float64)), right: Location(x=tensor(59891.1727, device='cuda:0', dtype=torch.float64), y=tensor(35498.3446, device='cuda:0', dtype=torch.float64), z=tensor(-3.3858, device='cuda:0', dtype=torch.float64)), distance: 0.0\n"
     ]
    },
    {
     "name": "stderr",
     "output_type": "stream",
     "text": [
      "\n",
      "100%|██████████| 121/121 [00:05<00:00, 22.18it/s]\n",
      "2it [00:05,  2.79s/it]"
     ]
    },
    {
     "name": "stdout",
     "output_type": "stream",
     "text": [
      "Processing checkpoint 2. Layer size: 121\n",
      "left: Location(x=tensor(59922.8779, device='cuda:0', dtype=torch.float64), y=tensor(35531.4128, device='cuda:0', dtype=torch.float64), z=tensor(-3.4100, device='cuda:0', dtype=torch.float64)), right: Location(x=tensor(59922.8779, device='cuda:0', dtype=torch.float64), y=tensor(35531.4128, device='cuda:0', dtype=torch.float64), z=tensor(-3.4100, device='cuda:0', dtype=torch.float64)), distance: 0.0\n"
     ]
    },
    {
     "name": "stderr",
     "output_type": "stream",
     "text": [
      "100%|██████████| 121/121 [00:06<00:00, 19.31it/s]\n",
      "3it [00:11,  4.25s/it]"
     ]
    },
    {
     "name": "stdout",
     "output_type": "stream",
     "text": [
      "Processing checkpoint 3. Layer size: 121\n",
      "left: Location(x=tensor(59954.1979, device='cuda:0', dtype=torch.float64), y=tensor(35563.9411, device='cuda:0', dtype=torch.float64), z=tensor(-3.4168, device='cuda:0', dtype=torch.float64)), right: Location(x=tensor(59954.1979, device='cuda:0', dtype=torch.float64), y=tensor(35563.9411, device='cuda:0', dtype=torch.float64), z=tensor(-3.4168, device='cuda:0', dtype=torch.float64)), distance: 0.0\n"
     ]
    },
    {
     "name": "stderr",
     "output_type": "stream",
     "text": [
      "100%|██████████| 121/121 [00:06<00:00, 18.39it/s]\n",
      "4it [00:18,  5.13s/it]"
     ]
    },
    {
     "name": "stdout",
     "output_type": "stream",
     "text": [
      "Processing checkpoint 4. Layer size: 121\n",
      "left: Location(x=tensor(59984.0872, device='cuda:0', dtype=torch.float64), y=tensor(35597.0431, device='cuda:0', dtype=torch.float64), z=tensor(-3.4450, device='cuda:0', dtype=torch.float64)), right: Location(x=tensor(59984.0872, device='cuda:0', dtype=torch.float64), y=tensor(35597.0431, device='cuda:0', dtype=torch.float64), z=tensor(-3.4450, device='cuda:0', dtype=torch.float64)), distance: 0.0\n"
     ]
    },
    {
     "name": "stderr",
     "output_type": "stream",
     "text": [
      "100%|██████████| 121/121 [00:06<00:00, 18.08it/s]\n",
      "5it [00:25,  5.69s/it]"
     ]
    },
    {
     "name": "stdout",
     "output_type": "stream",
     "text": [
      "Processing checkpoint 5. Layer size: 121\n",
      "left: Location(x=tensor(60015.1353, device='cuda:0', dtype=torch.float64), y=tensor(35631.3458, device='cuda:0', dtype=torch.float64), z=tensor(-3.4670, device='cuda:0', dtype=torch.float64)), right: Location(x=tensor(60015.1353, device='cuda:0', dtype=torch.float64), y=tensor(35631.3458, device='cuda:0', dtype=torch.float64), z=tensor(-3.4670, device='cuda:0', dtype=torch.float64)), distance: 0.0\n"
     ]
    },
    {
     "name": "stderr",
     "output_type": "stream",
     "text": [
      "100%|██████████| 121/121 [00:06<00:00, 18.69it/s]\n",
      "6it [00:31,  5.97s/it]"
     ]
    },
    {
     "name": "stdout",
     "output_type": "stream",
     "text": [
      "Processing checkpoint 6. Layer size: 121\n",
      "left: Location(x=tensor(60046.8862, device='cuda:0', dtype=torch.float64), y=tensor(35665.7821, device='cuda:0', dtype=torch.float64), z=tensor(-3.4874, device='cuda:0', dtype=torch.float64)), right: Location(x=tensor(60046.8862, device='cuda:0', dtype=torch.float64), y=tensor(35665.7821, device='cuda:0', dtype=torch.float64), z=tensor(-3.4874, device='cuda:0', dtype=torch.float64)), distance: 0.0\n"
     ]
    },
    {
     "name": "stderr",
     "output_type": "stream",
     "text": [
      "100%|██████████| 121/121 [00:06<00:00, 18.71it/s]\n",
      "7it [00:38,  6.14s/it]"
     ]
    },
    {
     "name": "stdout",
     "output_type": "stream",
     "text": [
      "Processing checkpoint 7. Layer size: 121\n",
      "left: Location(x=tensor(60077.6287, device='cuda:0', dtype=torch.float64), y=tensor(35699.2712, device='cuda:0', dtype=torch.float64), z=tensor(-3.5008, device='cuda:0', dtype=torch.float64)), right: Location(x=tensor(60077.6287, device='cuda:0', dtype=torch.float64), y=tensor(35699.2712, device='cuda:0', dtype=torch.float64), z=tensor(-3.5008, device='cuda:0', dtype=torch.float64)), distance: 0.0\n"
     ]
    },
    {
     "name": "stderr",
     "output_type": "stream",
     "text": [
      "100%|██████████| 121/121 [00:06<00:00, 19.28it/s]\n",
      "8it [00:44,  6.20s/it]"
     ]
    },
    {
     "name": "stdout",
     "output_type": "stream",
     "text": [
      "Processing checkpoint 8. Layer size: 121\n",
      "left: Location(x=tensor(60109.0517, device='cuda:0', dtype=torch.float64), y=tensor(35733.7930, device='cuda:0', dtype=torch.float64), z=tensor(-3.5256, device='cuda:0', dtype=torch.float64)), right: Location(x=tensor(60109.0517, device='cuda:0', dtype=torch.float64), y=tensor(35733.7930, device='cuda:0', dtype=torch.float64), z=tensor(-3.5256, device='cuda:0', dtype=torch.float64)), distance: 0.0\n"
     ]
    },
    {
     "name": "stderr",
     "output_type": "stream",
     "text": [
      "100%|██████████| 121/121 [00:00<00:00, 644.66it/s]\n",
      "9it [00:44,  4.97s/it]\n"
     ]
    }
   ],
   "source": [
    "def get_coefficient_of_drag(bearing: float) -> float:\n",
    "    return 0.33\n",
    "\n",
    "def get_projected_area(bearing: float) -> float:\n",
    "    \"\"\"Returns in mm^2\"\"\"\n",
    "    return 943416\n",
    "\n",
    "g = Graph.construct(\n",
    "    checkpoints=checkpoints[:10],\n",
    "    n_points_per_checkpoint=1,\n",
    "    max_velocity=42 * 1000 / 3600,  # Max velocity the car is allowed to go is 42 km/h\n",
    "    velocity_step_size=4000 / 3600,\n",
    "    max_motor_velocity=40 * 1000 / 3600,  # Max velocity the motor is allowed to go is 40 km/h\n",
    "    motor_velocity_step_size=4000 / 3600,\n",
    "    wind_velocity=5000 / 3600,\n",
    "    wind_bearing=200,\n",
    "    mass=1000,\n",
    "    coefficient_of_friction=0.03, # TODO: Figure this out\n",
    "    get_coefficient_of_drag=get_coefficient_of_drag,\n",
    "    get_projected_area=get_projected_area,\n",
    ")"
   ]
  },
  {
   "cell_type": "code",
   "execution_count": 10,
   "metadata": {},
   "outputs": [
    {
     "name": "stdout",
     "output_type": "stream",
     "text": [
      "Node 0 [position: Location(x=tensor(59843.8059, device='cuda:0', dtype=torch.float64), y=tensor(35436.9146, device='cuda:0', dtype=torch.float64), z=tensor(-3.3495, device='cuda:0', dtype=torch.float64)), velocity: 0]\n",
      "Node 111 [position: Location(x=tensor(59864.9894, device='cuda:0', dtype=torch.float64), y=tensor(35466.9803, device='cuda:0', dtype=torch.float64), z=tensor(-3.3799, device='cuda:0', dtype=torch.float64)), velocity: 11.11111068725586]\n",
      "Node 232 [position: Location(x=tensor(59891.1727, device='cuda:0', dtype=torch.float64), y=tensor(35498.3446, device='cuda:0', dtype=torch.float64), z=tensor(-3.3858, device='cuda:0', dtype=torch.float64)), velocity: 11.11111068725586]\n",
      "Node 353 [position: Location(x=tensor(59922.8779, device='cuda:0', dtype=torch.float64), y=tensor(35531.4128, device='cuda:0', dtype=torch.float64), z=tensor(-3.4100, device='cuda:0', dtype=torch.float64)), velocity: 11.11111068725586]\n",
      "Node 474 [position: Location(x=tensor(59954.1979, device='cuda:0', dtype=torch.float64), y=tensor(35563.9411, device='cuda:0', dtype=torch.float64), z=tensor(-3.4168, device='cuda:0', dtype=torch.float64)), velocity: 11.11111068725586]\n",
      "Node 595 [position: Location(x=tensor(59984.0872, device='cuda:0', dtype=torch.float64), y=tensor(35597.0431, device='cuda:0', dtype=torch.float64), z=tensor(-3.4450, device='cuda:0', dtype=torch.float64)), velocity: 11.11111068725586]\n",
      "Node 716 [position: Location(x=tensor(60015.1353, device='cuda:0', dtype=torch.float64), y=tensor(35631.3458, device='cuda:0', dtype=torch.float64), z=tensor(-3.4670, device='cuda:0', dtype=torch.float64)), velocity: 11.11111068725586]\n",
      "Node 837 [position: Location(x=tensor(60046.8862, device='cuda:0', dtype=torch.float64), y=tensor(35665.7821, device='cuda:0', dtype=torch.float64), z=tensor(-3.4874, device='cuda:0', dtype=torch.float64)), velocity: 11.11111068725586]\n",
      "Node 958 [position: Location(x=tensor(60077.6287, device='cuda:0', dtype=torch.float64), y=tensor(35699.2712, device='cuda:0', dtype=torch.float64), z=tensor(-3.5008, device='cuda:0', dtype=torch.float64)), velocity: 11.11111068725586]\n",
      "Node 969 [position: Location(x=tensor(60109.0517, device='cuda:0', dtype=torch.float64), y=tensor(35733.7930, device='cuda:0', dtype=torch.float64), z=tensor(-3.5256, device='cuda:0', dtype=torch.float64)), velocity: 0]\n",
      "Cheapest path:\n",
      "0\n",
      "111\n",
      "232\n",
      "353\n",
      "474\n",
      "595\n",
      "716\n",
      "837\n",
      "958\n",
      "Completed track in 43.372062462297905 consuming -8597119685.304598\n"
     ]
    }
   ],
   "source": [
    "def get_cheapest(g):\n",
    "    cursor = g.start\n",
    "    \n",
    "    path: list[tuple[Node, Transition]] = []\n",
    "    \n",
    "    while cursor is not None:\n",
    "        print(cursor)\n",
    "\n",
    "        if len(cursor.transitions) == 0:\n",
    "            cursor = None\n",
    "            return path\n",
    "        \n",
    "        cheapest_transition: Transition = cursor.transitions[0]\n",
    "        for t in cursor.transitions:\n",
    "            if t.work_required < cheapest_transition.work_required:\n",
    "                cheapest_transition = t\n",
    "        \n",
    "        path.append((cursor, cheapest_transition))\n",
    "        cursor = cheapest_transition.target\n",
    "        \n",
    "    return path\n",
    "\n",
    "path = get_cheapest(g)\n",
    "\n",
    "print(\"Cheapest path:\")\n",
    "\n",
    "total_energy = 0\n",
    "total_time = 0\n",
    "for node, transition in path:\n",
    "    print(node.id)\n",
    "    total_energy += transition.work_required\n",
    "    total_time += transition.time_required\n",
    "\n",
    "print(f\"Completed track in {total_time} consuming {total_energy}\")"
   ]
  },
  {
   "cell_type": "code",
   "execution_count": 6,
   "metadata": {},
   "outputs": [],
   "source": [
    "# from typing import List\n",
    "\n",
    "# def find_cheapest_path(graph: Graph) -> tuple[float, List[Node]]:\n",
    "#     \"\"\"Finds the cheapest path from start to end using Dijkstra's algorithm.\"\"\"\n",
    "    \n",
    "#     unvisited_nodes = graph.get_nodes()\n",
    "#     print(f\"Got Nodes: {len(unvisited_nodes)}\")\n",
    "\n",
    "#     costs = dict()\n",
    "#     paths = dict()\n",
    "    \n",
    "#     for node in unvisited_nodes:\n",
    "#         costs[node] = float('inf')\n",
    "#         paths[node] = []\n",
    "\n",
    "#     costs[graph.start] = 0\n",
    "#     paths[graph.start] = [graph.start]\n",
    "    \n",
    "#     cursor = graph.start\n",
    "\n",
    "#     while cursor is not None:\n",
    "#         unvisited_nodes.remove(cursor)\n",
    "        \n",
    "#         for transition in cursor.transitions:\n",
    "#             cost = costs[cursor] + transition.work_required\n",
    "#             if costs[transition.target] > cost:\n",
    "#                 costs[transition.target] = cost\n",
    "#                 paths[transition.target] = paths[cursor] + [transition.target]\n",
    "\n",
    "#         cheapest_node = None\n",
    "#         cheapest_cost = float('inf')\n",
    "#         for node, cost in enumerate(costs):\n",
    "#             if node in unvisited_nodes and cost < cheapest_cost:\n",
    "#                 cheapest_node = node\n",
    "#                 cheapest_cost = cost\n",
    "\n",
    "#         cursor = cheapest_node\n",
    "\n",
    "#     return costs[graph.end], paths[graph.end]\n",
    "\n",
    "        \n"
   ]
  },
  {
   "cell_type": "code",
   "execution_count": 7,
   "metadata": {},
   "outputs": [],
   "source": [
    "# cost, cheapest_path = find_cheapest_path(g)\n",
    "\n",
    "# print(f\"Cost: {cost}\")"
   ]
  },
  {
   "cell_type": "code",
   "execution_count": 8,
   "metadata": {},
   "outputs": [],
   "source": [
    "# print([(node.id, node.velocity) for node in cheapest_path])"
   ]
  },
  {
   "cell_type": "code",
   "execution_count": 9,
   "metadata": {},
   "outputs": [],
   "source": [
    "# print(g.get_nodaes())"
   ]
  },
  {
   "cell_type": "code",
   "execution_count": null,
   "metadata": {},
   "outputs": [],
   "source": []
  },
  {
   "cell_type": "code",
   "execution_count": null,
   "metadata": {},
   "outputs": [],
   "source": []
  }
 ],
 "metadata": {
  "kernelspec": {
   "display_name": "Python 3 (ipykernel)",
   "language": "python",
   "name": "python3"
  },
  "language_info": {
   "codemirror_mode": {
    "name": "ipython",
    "version": 3
   },
   "file_extension": ".py",
   "mimetype": "text/x-python",
   "name": "python",
   "nbconvert_exporter": "python",
   "pygments_lexer": "ipython3",
   "version": "3.10.12"
  }
 },
 "nbformat": 4,
 "nbformat_minor": 4
}
