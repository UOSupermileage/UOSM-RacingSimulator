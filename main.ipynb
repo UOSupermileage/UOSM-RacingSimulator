{
 "cells": [
  {
   "cell_type": "markdown",
   "metadata": {},
   "source": [
    "# Efficiency Simulation"
   ]
  },
  {
   "cell_type": "code",
   "execution_count": 1,
   "metadata": {},
   "outputs": [],
   "source": [
    "from __future__ import annotations\n",
    "from dataclasses import dataclass\n",
    "from coordinates import Location, Checkpoint, device\n",
    "import math as m\n",
    "import copy\n",
    "from collections.abc import Callable\n",
    "\n",
    "from torch import FloatTensor, IntTensor, tensor\n",
    "import torch\n",
    "import torch.autograd.profiler as profiler\n",
    "from tqdm.auto import tqdm"
   ]
  },
  {
   "cell_type": "code",
   "execution_count": 2,
   "metadata": {},
   "outputs": [
    {
     "name": "stdout",
     "output_type": "stream",
     "text": [
      "Found 2696 checkpoints\n"
     ]
    }
   ],
   "source": [
    "import pandas as pd\n",
    "from coordinates import Checkpoint, Location, device\n",
    "from torch import tensor\n",
    "\n",
    "track_data = pd.read_csv(\"./sem_2023_us.csv\")\n",
    "\n",
    "track_data = track_data.rename(columns={\n",
    "    \"Metres above sea level\": \"Altitude\"\n",
    "})\n",
    "\n",
    "track_data.head(10)\n",
    "\n",
    "checkpoints: list[Checkpoint] = []\n",
    "for i, row in track_data.iterrows():\n",
    "    location = Location.construct(row[\"Latitude\"], row[\"Longitude\"], row[\"Altitude\"])\n",
    "    # print(f\"Lat {row['Latitude']}, Long {row['Longitude']}, Alt {row['Altitude']}, x {location.x}, y {location.y}, z {location.z}\")\n",
    "    checkpoints.append(Checkpoint(location, location))\n",
    "\n",
    "print(f\"Found {len(checkpoints)} checkpoints\")"
   ]
  },
  {
   "cell_type": "code",
   "execution_count": 3,
   "metadata": {},
   "outputs": [
    {
     "name": "stderr",
     "output_type": "stream",
     "text": [
      "100%|██████████| 2695/2695 [01:18<00:00, 34.12it/s]\n"
     ]
    }
   ],
   "source": [
    "from graph import Graph, Node, Transition \n",
    "def get_coefficient_of_drag(bearing: float) -> float:\n",
    "    return 0.33\n",
    "\n",
    "def get_projected_area(bearing: float) -> float:\n",
    "    \"\"\"Returns in mm^2\"\"\"\n",
    "    return 943416\n",
    "\n",
    "g = Graph.construct(\n",
    "    checkpoints=checkpoints,\n",
    "    n_points_per_checkpoint=1,\n",
    "    max_velocity=42 * 1000 / 3600,  # Max velocity the car is allowed to go is 42 km/h\n",
    "    velocity_step_size=7000 / 3600,\n",
    "    wind_velocity=5000 / 3600,\n",
    "    wind_bearing=200,\n",
    "    mass=108000,\n",
    "    coefficient_of_friction=0.03, # TODO: Figure this out\n",
    "    get_coefficient_of_drag=get_coefficient_of_drag,\n",
    "    get_projected_area=get_projected_area,\n",
    ")"
   ]
  },
  {
   "cell_type": "code",
   "execution_count": 4,
   "metadata": {},
   "outputs": [
    {
     "name": "stdout",
     "output_type": "stream",
     "text": [
      "Graph Distance: 3.5690884038885002 km\n"
     ]
    }
   ],
   "source": [
    "import random\n",
    "\n",
    "def get_graph_distance(graph: Graph) -> float:\n",
    "    '''Returns the length of a random path through the graph'''\n",
    "\n",
    "    distance = 0\n",
    "    cursor = graph.start\n",
    "    while cursor is not None:\n",
    "        if len(cursor.transitions) == 0:\n",
    "            cursor = None\n",
    "        else:\n",
    "            idx = random.randint(0, len(cursor.transitions) - 1)\n",
    "            distance += cursor.position.distance(cursor.transitions[idx].target.position)\n",
    "            cursor = cursor.transitions[idx].target\n",
    "\n",
    "    return distance\n",
    "\n",
    "distance = get_graph_distance(g)\n",
    "print(f\"Graph Distance: {distance / 1000} km\")\n"
   ]
  },
  {
   "cell_type": "code",
   "execution_count": 5,
   "metadata": {},
   "outputs": [],
   "source": [
    "def topological_order(graph: Graph) -> list[int]:\n",
    "    '''Returns the ids in topo order'''\n",
    "    # Topological sorting using DFS\n",
    "    topological_order: list[int] = []\n",
    "    marked_nodes: set[int] = set() # Used to track visited nodes\n",
    "\n",
    "    def visit(node: Node):\n",
    "        if node.id in marked_nodes:\n",
    "            return\n",
    "\n",
    "        for transition in node.transitions:\n",
    "            visit(transition.target)\n",
    "\n",
    "        marked_nodes.add(node.id)\n",
    "        topological_order.insert(0, node.id)\n",
    "\n",
    "    # Generate the topological order\n",
    "    for node_id in graph.nodes.keys():\n",
    "        if node_id not in marked_nodes:\n",
    "            visit(graph.nodes[node_id])\n",
    "\n",
    "    return topological_order\n",
    "\n",
    "def cheapest_path(graph: Graph, work_weight: float, time_weight: float):\n",
    "    # Topological sorting using DFS\n",
    "    sorted_nodes = topological_order(graph)\n",
    "\n",
    "    # Get all node ids\n",
    "    node_ids = list(graph.nodes.keys())\n",
    "\n",
    "    # Initialize cost and time dictionaries\n",
    "    min_cost  = {node_id: float('inf') for node_id in node_ids}\n",
    "    min_energy  = {node_id: float('inf') for node_id in node_ids}\n",
    "    min_time = {node_id: float('inf') for node_id in node_ids}\n",
    "    prev_node = {node_id: None for node_id in node_ids}\n",
    "\n",
    "    min_cost[graph.start.id] = 0\n",
    "    min_energy[graph.start.id] = 0\n",
    "    min_time[graph.start.id] = 0\n",
    "\n",
    "    # Iterate through nodes in topological order\n",
    "    for node_id in sorted_nodes:\n",
    "        current_node = graph.nodes[node_id]\n",
    "\n",
    "        for transition in current_node.transitions:\n",
    "            neighbor_id = transition.target.id\n",
    "            new_time = min_time[node_id] + transition.time_required\n",
    "            new_energy = min_energy[node_id] + transition.work_required\n",
    "\n",
    "            # Calculate the new weighted cost\n",
    "            weighted_cost = work_weight * new_energy + time_weight * new_time\n",
    "\n",
    "            # Check if the new path offers a lower cost\n",
    "            if weighted_cost < min_cost[neighbor_id]:\n",
    "                min_cost[neighbor_id] = weighted_cost\n",
    "                min_time[neighbor_id] = new_time\n",
    "                min_energy[neighbor_id] = new_energy\n",
    "                prev_node[neighbor_id] = node_id\n",
    "\n",
    "    # Find the minimum cost path to the end node\n",
    "    if min_cost[graph.end.id] == float('inf'):\n",
    "        raise ValueError(\"No path found within reasonable time.\")\n",
    "    \n",
    "    # Reconstruct the path\n",
    "    path = []\n",
    "    node_id = graph.end.id\n",
    "    while node_id is not None:\n",
    "        path.append(node_id)\n",
    "        node_id = prev_node[node_id]\n",
    "\n",
    "    path.reverse()  # Reverse to get the correct order from start to end\n",
    "    return path, min_cost[graph.end.id], min_time[graph.end.id], min_energy[graph.end.id]"
   ]
  },
  {
   "cell_type": "code",
   "execution_count": 14,
   "metadata": {},
   "outputs": [
    {
     "name": "stdout",
     "output_type": "stream",
     "text": [
      "Energy 707249.1954543946 kJ | Energy 196.45810984844292 kWh | Time 61.11986923836856 minutes | Cost 707285867.3759376 | Efficiency 0.018157576959688594km/kWh | Distance: 3.5672032489280583 km\n"
     ]
    }
   ],
   "source": [
    "energy_weight = 1\n",
    "time_weight = 100\n",
    "\n",
    "node_ids, cost, time, energy = cheapest_path(g, energy_weight, time_weight)\n",
    "\n",
    "distance = 0\n",
    "last_node = node_ids[0]\n",
    "for node in node_ids[1:]:\n",
    "    a = g.get_node(last_node)\n",
    "    b = g.get_node(node)\n",
    "\n",
    "    if a is not None and b is not None:\n",
    "        distance += a.position.distance(b.position)\n",
    "    else:\n",
    "        print(\"Skip\")\n",
    "    last_node = node\n",
    "\n",
    "def kilo_watt_hour(joules: float):\n",
    "    return joules / 3600000\n",
    "\n",
    "effiency = (distance / 1000) / kilo_watt_hour(energy)\n",
    "\n",
    "print(f\"Energy {energy/1000} kJ | Energy {kilo_watt_hour(energy)} kWh | Time {time / 60} minutes | Cost {cost} | Efficiency {effiency}km/kWh | Distance: {distance / 1000} km\")\n"
   ]
  }
 ],
 "metadata": {
  "kernelspec": {
   "display_name": "venv",
   "language": "python",
   "name": "python3"
  },
  "language_info": {
   "codemirror_mode": {
    "name": "ipython",
    "version": 3
   },
   "file_extension": ".py",
   "mimetype": "text/x-python",
   "name": "python",
   "nbconvert_exporter": "python",
   "pygments_lexer": "ipython3",
   "version": "3.10.12"
  }
 },
 "nbformat": 4,
 "nbformat_minor": 2
}
