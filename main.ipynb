{
 "cells": [
  {
   "cell_type": "markdown",
   "metadata": {},
   "source": [
    "# Efficiency Simulation"
   ]
  },
  {
   "cell_type": "code",
   "execution_count": 1,
   "metadata": {},
   "outputs": [],
   "source": [
    "import pandas as pd\n",
    "from coordinates import Checkpoint, Location, device\n",
    "from torch import tensor\n",
    "\n",
    "track_data = pd.read_csv(\"./sem_2023_us.csv\")\n",
    "\n",
    "track_data = track_data.rename(columns={\n",
    "    \"Metres above sea level\": \"Altitude\"\n",
    "})\n",
    "\n",
    "track_data.head(10)\n",
    "\n",
    "checkpoints: list[Checkpoint] = []\n",
    "for i, row in track_data.iterrows():\n",
    "    location = Location(tensor(row[\"Latitude\"], device=device), tensor(row[\"Longitude\"], device=device), tensor(row[\"Altitude\"], device=device))\n",
    "    checkpoints.append(Checkpoint(location, location))"
   ]
  },
  {
   "cell_type": "code",
   "execution_count": 2,
   "metadata": {},
   "outputs": [
    {
     "name": "stdout",
     "output_type": "stream",
     "text": [
      "Processing checkpoint 0. Layer size: 1\n",
      "Calculating transitions of size: 1763\n"
     ]
    },
    {
     "name": "stderr",
     "output_type": "stream",
     "text": [
      "WARNING:2024-05-19 21:20:40 12559:12559 init.cpp:166] function cbapi->getCuptiStatus() failed with error CUPTI_ERROR_NOT_INITIALIZED (15)\n",
      "WARNING:2024-05-19 21:20:40 12559:12559 init.cpp:167] CUPTI initialization failed - CUDA profiler activities will be missing\n",
      "INFO:2024-05-19 21:20:40 12559:12559 init.cpp:169] If you see CUPTI_ERROR_INSUFFICIENT_PRIVILEGES, refer to https://developer.nvidia.com/nvidia-development-tools-solutions-err-nvgpuctrperm-cupti\n",
      "STAGE:2024-05-19 21:20:40 12559:12559 ActivityProfilerController.cpp:314] Completed Stage: Warm Up\n",
      "STAGE:2024-05-19 21:20:41 12559:12559 ActivityProfilerController.cpp:320] Completed Stage: Collection\n",
      "STAGE:2024-05-19 21:20:41 12559:12559 ActivityProfilerController.cpp:324] Completed Stage: Post Processing\n"
     ]
    },
    {
     "name": "stdout",
     "output_type": "stream",
     "text": [
      "-----------------------------  ------------  ------------  ------------  ------------  ------------  ------------  \n",
      "                         Name    Self CPU %      Self CPU   CPU total %     CPU total  CPU time avg    # of Calls  \n",
      "-----------------------------  ------------  ------------  ------------  ------------  ------------  ------------  \n",
      "                   aten::item         2.56%      28.803ms        15.90%     178.935ms      25.374us          7052  \n",
      "    aten::_local_scalar_dense        15.62%     175.790ms        15.62%     175.790ms      24.928us          7052  \n",
      "                    aten::mul        15.00%     168.853ms        15.00%     168.853ms       7.977us         21168  \n",
      "                    aten::sub        12.62%     142.048ms        12.62%     142.048ms       8.055us         17634  \n",
      "                    aten::pow         9.45%     106.375ms         9.45%     106.398ms      10.056us         10581  \n",
      "                    aten::cos         9.09%     102.305ms         9.09%     102.305ms       7.253us         14106  \n",
      "                    aten::sin         8.06%      90.673ms         8.06%      90.673ms       7.347us         12342  \n",
      "                    aten::div         6.62%      74.490ms         6.62%      74.490ms       8.449us          8816  \n",
      "                   aten::sqrt         6.00%      67.532ms         6.00%      67.532ms       7.661us          8815  \n",
      "                    aten::add         5.11%      57.521ms         5.11%      57.521ms       8.157us          7052  \n",
      "-----------------------------  ------------  ------------  ------------  ------------  ------------  ------------  \n",
      "Self CPU time total: 1.125s\n",
      "\n"
     ]
    }
   ],
   "source": [
    "from graph import Graph\n",
    "\n",
    "def get_coefficient_of_drag(bearing: float) -> float:\n",
    "    return 0.5\n",
    "\n",
    "def get_projected_area(bearing: float) -> float:\n",
    "    return 0.5\n",
    "\n",
    "g = Graph.construct(\n",
    "    checkpoints=checkpoints[:2],\n",
    "    n_points_per_checkpoint=1,\n",
    "    max_velocity=42 * 1000 / 3600,  # Max velocity the car is allowed to go is 42 km/h\n",
    "    velocity_step_size=1000 / 3600,\n",
    "    max_motor_velocity=40 * 1000 / 3600,  # Max velocity the motor is allowed to go is 40 km/h\n",
    "    motor_velocity_step_size=1000 / 3600,\n",
    "    wind_velocity=5000 / 3600,\n",
    "    wind_bearing=200,\n",
    "    mass=1000,\n",
    "    coefficient_of_friction=0.5, # TODO: Figure this out\n",
    "    get_coefficient_of_drag=get_coefficient_of_drag,\n",
    "    get_projected_area=get_projected_area,\n",
    ")"
   ]
  }
 ],
 "metadata": {
  "kernelspec": {
   "display_name": "venv",
   "language": "python",
   "name": "python3"
  },
  "language_info": {
   "codemirror_mode": {
    "name": "ipython",
    "version": 3
   },
   "file_extension": ".py",
   "mimetype": "text/x-python",
   "name": "python",
   "nbconvert_exporter": "python",
   "pygments_lexer": "ipython3",
   "version": "3.10.12"
  }
 },
 "nbformat": 4,
 "nbformat_minor": 2
}
