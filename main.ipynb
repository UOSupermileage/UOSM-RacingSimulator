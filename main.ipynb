{
 "cells": [
  {
   "cell_type": "markdown",
   "metadata": {},
   "source": [
    "# Efficiency Simulation"
   ]
  },
  {
   "cell_type": "code",
   "execution_count": 5,
   "metadata": {},
   "outputs": [],
   "source": [
    "import pandas as pd\n",
    "from coordinates import Checkpoint, Location\n",
    "\n",
    "track_data = pd.read_csv(\"./sem_2023_us.csv\")\n",
    "\n",
    "track_data = track_data.rename(columns={\n",
    "    \"Metres above sea level\": \"Altitude\"\n",
    "})\n",
    "\n",
    "track_data.head(10)\n",
    "\n",
    "checkpoints: list[Checkpoint] = []\n",
    "for i, row in track_data.iterrows():\n",
    "    location = Location(row[\"Latitude\"], row[\"Longitude\"],row[\"Altitude\"])\n",
    "    checkpoints.append(Checkpoint(location, location))"
   ]
  },
  {
   "cell_type": "code",
   "execution_count": 7,
   "metadata": {},
   "outputs": [
    {
     "name": "stdout",
     "output_type": "stream",
     "text": [
      "Processing checkpoint 0. Layer size: 1\n",
      "Processing checkpoint 1. Layer size: 1680\n",
      "Processing checkpoint 2. Layer size: 1680\n"
     ]
    }
   ],
   "source": [
    "from graph import Graph\n",
    "\n",
    "def get_coefficient_of_drag(bearing: float) -> float:\n",
    "    return 0.5\n",
    "\n",
    "def get_projected_area(bearing: float) -> float:\n",
    "    return 0.5\n",
    "\n",
    "g = Graph.construct(\n",
    "    checkpoints=checkpoints[:8],\n",
    "    n_points_per_checkpoint=1,\n",
    "    max_velocity=42 * 1000 / 3600,  # Max velocity the car is allowed to go is 42 km/h\n",
    "    velocity_step_size=1000 / 3600,\n",
    "    max_motor_velocity=40 * 1000 / 3600,  # Max velocity the motor is allowed to go is 40 km/h\n",
    "    motor_velocity_step_size=1000 / 3600,\n",
    "    wind_velocity=5000 / 3600,\n",
    "    wind_bearing=200,\n",
    "    mass=1000,\n",
    "    coefficient_of_friction=0.5, # TODO: Figure this out\n",
    "    get_coefficient_of_drag=get_coefficient_of_drag,\n",
    "    get_projected_area=get_projected_area,\n",
    ")"
   ]
  }
 ],
 "metadata": {
  "language_info": {
   "name": "python"
  }
 },
 "nbformat": 4,
 "nbformat_minor": 2
}
