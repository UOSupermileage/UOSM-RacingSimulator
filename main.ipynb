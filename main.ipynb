{
 "cells": [
  {
   "cell_type": "markdown",
   "metadata": {},
   "source": [
    "# Efficiency Simulation"
   ]
  },
  {
   "cell_type": "code",
   "execution_count": 1,
   "metadata": {},
   "outputs": [],
   "source": [
    "from __future__ import annotations\n",
    "from dataclasses import dataclass\n",
    "from coordinates import Location, Checkpoint, device\n",
    "import math as m\n",
    "import copy\n",
    "from collections.abc import Callable\n",
    "\n",
    "from torch import FloatTensor, IntTensor, tensor\n",
    "import torch\n",
    "import torch.autograd.profiler as profiler\n",
    "from tqdm.auto import tqdm"
   ]
  },
  {
   "cell_type": "code",
   "execution_count": 2,
   "metadata": {},
   "outputs": [],
   "source": [
    "from graph import Graph, Node, Transition\n"
   ]
  },
  {
   "cell_type": "code",
   "execution_count": 3,
   "metadata": {},
   "outputs": [
    {
     "name": "stdout",
     "output_type": "stream",
     "text": [
      "Found 2696 checkpoints\n"
     ]
    }
   ],
   "source": [
    "import pandas as pd\n",
    "from coordinates import Checkpoint, Location, device\n",
    "from torch import tensor\n",
    "\n",
    "track_data = pd.read_csv(\"./sem_2023_us.csv\")\n",
    "\n",
    "track_data = track_data.rename(columns={\n",
    "    \"Metres above sea level\": \"Altitude\"\n",
    "})\n",
    "\n",
    "track_data.head(10)\n",
    "\n",
    "checkpoints: list[Checkpoint] = []\n",
    "for i, row in track_data.iterrows():\n",
    "    location = Location(tensor(row[\"Latitude\"], device=device), tensor(row[\"Longitude\"], device=device), tensor(row[\"Altitude\"], device=device))\n",
    "    checkpoints.append(Checkpoint(location, location))\n",
    "\n",
    "print(f\"Found {len(checkpoints)} checkpoints\")"
   ]
  },
  {
   "cell_type": "code",
   "execution_count": 4,
   "metadata": {},
   "outputs": [
    {
     "name": "stderr",
     "output_type": "stream",
     "text": [
      "0it [00:00, ?it/s]"
     ]
    },
    {
     "name": "stdout",
     "output_type": "stream",
     "text": [
      "Processing checkpoint 0. Layer size: 1\n"
     ]
    },
    {
     "name": "stderr",
     "output_type": "stream",
     "text": [
      "\n",
      "100%|█████████████████████████████████████████████| 1/1 [00:00<00:00, 17.43it/s]\u001b[A\n"
     ]
    },
    {
     "name": "stdout",
     "output_type": "stream",
     "text": [
      "Processing checkpoint 1. Layer size: 121\n"
     ]
    },
    {
     "name": "stderr",
     "output_type": "stream",
     "text": [
      "\n",
      "  0%|                                                   | 0/121 [00:00<?, ?it/s]\u001b[A\n",
      "  2%|█                                          | 3/121 [00:00<00:05, 22.78it/s]\u001b[A\n",
      "  5%|██▏                                        | 6/121 [00:00<00:05, 22.67it/s]\u001b[A\n",
      "  7%|███▏                                       | 9/121 [00:00<00:05, 22.11it/s]\u001b[A\n",
      " 10%|████▏                                     | 12/121 [00:00<00:04, 22.16it/s]\u001b[A\n",
      " 12%|█████▏                                    | 15/121 [00:00<00:04, 22.29it/s]\u001b[A\n",
      " 15%|██████▏                                   | 18/121 [00:00<00:04, 21.71it/s]\u001b[A\n",
      " 17%|███████▎                                  | 21/121 [00:00<00:04, 21.95it/s]\u001b[A\n",
      " 20%|████████▎                                 | 24/121 [00:01<00:04, 23.00it/s]\u001b[A\n",
      " 22%|█████████▎                                | 27/121 [00:01<00:03, 24.09it/s]\u001b[A\n",
      " 25%|██████████▍                               | 30/121 [00:01<00:03, 24.84it/s]\u001b[A\n",
      " 27%|███████████▍                              | 33/121 [00:01<00:03, 24.00it/s]\u001b[A\n",
      " 30%|████████████▍                             | 36/121 [00:01<00:03, 23.29it/s]\u001b[A\n",
      " 32%|█████████████▌                            | 39/121 [00:01<00:03, 23.55it/s]\u001b[A\n",
      " 35%|██████████████▌                           | 42/121 [00:01<00:03, 24.45it/s]\u001b[A\n",
      " 37%|███████████████▌                          | 45/121 [00:01<00:03, 25.02it/s]\u001b[A\n",
      " 40%|████████████████▋                         | 48/121 [00:02<00:03, 24.28it/s]\u001b[A\n",
      " 42%|█████████████████▋                        | 51/121 [00:02<00:03, 23.21it/s]\u001b[A\n",
      " 45%|██████████████████▋                       | 54/121 [00:02<00:02, 22.61it/s]\u001b[A\n",
      " 47%|███████████████████▊                      | 57/121 [00:02<00:02, 23.89it/s]\u001b[A\n",
      " 50%|████████████████████▊                     | 60/121 [00:02<00:02, 24.78it/s]\u001b[A\n",
      " 52%|█████████████████████▊                    | 63/121 [00:02<00:02, 25.43it/s]\u001b[A\n",
      " 55%|██████████████████████▉                   | 66/121 [00:02<00:02, 26.18it/s]\u001b[A\n",
      " 57%|███████████████████████▉                  | 69/121 [00:02<00:02, 25.59it/s]\u001b[A\n",
      " 60%|████████████████████████▉                 | 72/121 [00:03<00:01, 25.95it/s]\u001b[A\n",
      " 62%|██████████████████████████                | 75/121 [00:03<00:01, 26.56it/s]\u001b[A\n",
      " 64%|███████████████████████████               | 78/121 [00:03<00:01, 26.56it/s]\u001b[A\n",
      " 67%|████████████████████████████              | 81/121 [00:03<00:01, 26.56it/s]\u001b[A\n",
      " 69%|█████████████████████████████▏            | 84/121 [00:03<00:01, 26.78it/s]\u001b[A\n",
      " 72%|██████████████████████████████▏           | 87/121 [00:03<00:01, 26.87it/s]\u001b[A\n",
      " 74%|███████████████████████████████▏          | 90/121 [00:03<00:01, 26.90it/s]\u001b[A\n",
      " 77%|████████████████████████████████▎         | 93/121 [00:03<00:01, 26.70it/s]\u001b[A\n",
      " 79%|█████████████████████████████████▎        | 96/121 [00:03<00:00, 26.84it/s]\u001b[A\n",
      " 82%|██████████████████████████████████▎       | 99/121 [00:04<00:00, 26.75it/s]\u001b[A\n",
      " 84%|██████████████████████████████████▌      | 102/121 [00:04<00:00, 26.68it/s]\u001b[A\n",
      " 87%|███████████████████████████████████▌     | 105/121 [00:04<00:00, 26.96it/s]\u001b[A\n",
      " 89%|████████████████████████████████████▌    | 108/121 [00:04<00:00, 27.12it/s]\u001b[A\n",
      " 92%|█████████████████████████████████████▌   | 111/121 [00:04<00:00, 27.36it/s]\u001b[A\n",
      " 94%|██████████████████████████████████████▋  | 114/121 [00:04<00:00, 27.52it/s]\u001b[A\n",
      " 97%|███████████████████████████████████████▋ | 117/121 [00:04<00:00, 27.56it/s]\u001b[A\n",
      "100%|█████████████████████████████████████████| 121/121 [00:04<00:00, 25.17it/s]\u001b[A\n",
      "2it [00:04,  2.45s/it]"
     ]
    },
    {
     "name": "stdout",
     "output_type": "stream",
     "text": [
      "Processing checkpoint 2. Layer size: 121\n"
     ]
    },
    {
     "name": "stderr",
     "output_type": "stream",
     "text": [
      "\n",
      "  0%|                                                   | 0/121 [00:00<?, ?it/s]\u001b[A\n",
      "  2%|█                                          | 3/121 [00:00<00:04, 27.01it/s]\u001b[A\n",
      "  5%|██▏                                        | 6/121 [00:00<00:04, 26.11it/s]\u001b[A\n",
      "  7%|███▏                                       | 9/121 [00:00<00:04, 26.43it/s]\u001b[A\n",
      " 10%|████▏                                     | 12/121 [00:00<00:04, 26.63it/s]\u001b[A\n",
      " 12%|█████▏                                    | 15/121 [00:00<00:03, 27.22it/s]\u001b[A\n",
      " 15%|██████▏                                   | 18/121 [00:00<00:03, 27.05it/s]\u001b[A\n",
      " 17%|███████▎                                  | 21/121 [00:00<00:03, 26.03it/s]\u001b[A\n",
      " 20%|████████▎                                 | 24/121 [00:00<00:03, 24.79it/s]\u001b[A\n",
      " 22%|█████████▎                                | 27/121 [00:01<00:03, 23.58it/s]\u001b[A\n",
      " 25%|██████████▍                               | 30/121 [00:01<00:03, 23.58it/s]\u001b[A\n",
      " 27%|███████████▍                              | 33/121 [00:01<00:03, 23.00it/s]\u001b[A\n",
      " 30%|████████████▍                             | 36/121 [00:01<00:03, 22.55it/s]\u001b[A\n",
      " 32%|█████████████▌                            | 39/121 [00:01<00:03, 22.34it/s]\u001b[A\n",
      " 35%|██████████████▌                           | 42/121 [00:01<00:03, 22.54it/s]\u001b[A\n",
      " 37%|███████████████▌                          | 45/121 [00:01<00:03, 23.04it/s]\u001b[A\n",
      " 40%|████████████████▋                         | 48/121 [00:02<00:03, 22.71it/s]\u001b[A\n",
      " 42%|█████████████████▋                        | 51/121 [00:02<00:03, 22.29it/s]\u001b[A\n",
      " 45%|██████████████████▋                       | 54/121 [00:02<00:03, 21.33it/s]\u001b[A\n",
      " 47%|███████████████████▊                      | 57/121 [00:02<00:03, 21.20it/s]\u001b[A\n",
      " 50%|████████████████████▊                     | 60/121 [00:02<00:02, 21.22it/s]\u001b[A\n",
      " 52%|█████████████████████▊                    | 63/121 [00:02<00:02, 21.11it/s]\u001b[A\n",
      " 55%|██████████████████████▉                   | 66/121 [00:02<00:02, 21.64it/s]\u001b[A\n",
      " 57%|███████████████████████▉                  | 69/121 [00:02<00:02, 22.06it/s]\u001b[A\n",
      " 60%|████████████████████████▉                 | 72/121 [00:03<00:02, 22.42it/s]\u001b[A\n",
      " 62%|██████████████████████████                | 75/121 [00:03<00:02, 22.21it/s]\u001b[A\n",
      " 64%|███████████████████████████               | 78/121 [00:03<00:01, 22.34it/s]\u001b[A\n",
      " 67%|████████████████████████████              | 81/121 [00:03<00:01, 22.58it/s]\u001b[A\n",
      " 69%|█████████████████████████████▏            | 84/121 [00:03<00:01, 22.73it/s]\u001b[A\n",
      " 72%|██████████████████████████████▏           | 87/121 [00:03<00:01, 22.68it/s]\u001b[A\n",
      " 74%|███████████████████████████████▏          | 90/121 [00:03<00:01, 19.81it/s]\u001b[A\n",
      " 77%|████████████████████████████████▎         | 93/121 [00:04<00:01, 20.56it/s]\u001b[A\n",
      " 79%|█████████████████████████████████▎        | 96/121 [00:04<00:01, 20.99it/s]\u001b[A\n",
      " 82%|██████████████████████████████████▎       | 99/121 [00:04<00:01, 21.46it/s]\u001b[A\n",
      " 84%|██████████████████████████████████▌      | 102/121 [00:04<00:00, 21.74it/s]\u001b[A\n",
      " 87%|███████████████████████████████████▌     | 105/121 [00:04<00:00, 21.89it/s]\u001b[A\n",
      " 89%|████████████████████████████████████▌    | 108/121 [00:04<00:00, 21.93it/s]\u001b[A\n",
      " 92%|█████████████████████████████████████▌   | 111/121 [00:04<00:00, 21.93it/s]\u001b[A\n",
      " 94%|██████████████████████████████████████▋  | 114/121 [00:05<00:00, 21.99it/s]\u001b[A\n",
      " 97%|███████████████████████████████████████▋ | 117/121 [00:05<00:00, 21.51it/s]\u001b[A\n",
      "100%|█████████████████████████████████████████| 121/121 [00:05<00:00, 22.49it/s]\u001b[A\n",
      "3it [00:10,  3.68s/it]"
     ]
    },
    {
     "name": "stdout",
     "output_type": "stream",
     "text": [
      "Processing checkpoint 3. Layer size: 121\n"
     ]
    },
    {
     "name": "stderr",
     "output_type": "stream",
     "text": [
      "\n",
      "  0%|                                                   | 0/121 [00:00<?, ?it/s]\u001b[A\n",
      "100%|████████████████████████████████████████| 121/121 [00:00<00:00, 717.64it/s]\u001b[A\n",
      "4it [00:10,  2.62s/it]\n"
     ]
    }
   ],
   "source": [
    "def get_coefficient_of_drag(bearing: float) -> float:\n",
    "    return 0.33\n",
    "\n",
    "def get_projected_area(bearing: float) -> float:\n",
    "    \"\"\"Returns in mm^2\"\"\"\n",
    "    return 943416\n",
    "\n",
    "g = Graph.construct(\n",
    "    checkpoints=checkpoints[:5],\n",
    "    n_points_per_checkpoint=1,\n",
    "    max_velocity=42 * 1000 / 3600,  # Max velocity the car is allowed to go is 42 km/h\n",
    "    velocity_step_size=4000 / 3600,\n",
    "    max_motor_velocity=40 * 1000 / 3600,  # Max velocity the motor is allowed to go is 40 km/h\n",
    "    motor_velocity_step_size=4000 / 3600,\n",
    "    wind_velocity=5000 / 3600,\n",
    "    wind_bearing=200,\n",
    "    mass=1000,\n",
    "    coefficient_of_friction=0.03, # TODO: Figure this out\n",
    "    get_coefficient_of_drag=get_coefficient_of_drag,\n",
    "    get_projected_area=get_projected_area,\n",
    ")"
   ]
  },
  {
   "cell_type": "code",
   "execution_count": 5,
   "metadata": {},
   "outputs": [
    {
     "name": "stdout",
     "output_type": "stream",
     "text": [
      "0\n",
      "0\n",
      "L 1\n"
     ]
    },
    {
     "data": {
      "application/vnd.jupyter.widget-view+json": {
       "model_id": "15dba571e8254d0981c731d665422810",
       "version_major": 2,
       "version_minor": 0
      },
      "text/plain": [
       "  0%|          | 0/121 [00:00<?, ?it/s]"
      ]
     },
     "metadata": {},
     "output_type": "display_data"
    },
    {
     "name": "stdout",
     "output_type": "stream",
     "text": [
      "tensor(nan, device='cuda:0', dtype=torch.float64)\n",
      "tensor(nan, device='cuda:0', dtype=torch.float64)\n",
      "tensor(nan, device='cuda:0', dtype=torch.float64)\n",
      "tensor(nan, device='cuda:0', dtype=torch.float64)\n",
      "tensor(nan, device='cuda:0', dtype=torch.float64)\n",
      "tensor(nan, device='cuda:0', dtype=torch.float64)\n",
      "tensor(nan, device='cuda:0', dtype=torch.float64)\n",
      "tensor(nan, device='cuda:0', dtype=torch.float64)\n",
      "tensor(nan, device='cuda:0', dtype=torch.float64)\n",
      "tensor(nan, device='cuda:0', dtype=torch.float64)\n",
      "tensor(nan, device='cuda:0', dtype=torch.float64)\n",
      "tensor(nan, device='cuda:0', dtype=torch.float64)\n",
      "tensor(nan, device='cuda:0', dtype=torch.float64)\n",
      "tensor(nan, device='cuda:0', dtype=torch.float64)\n",
      "tensor(nan, device='cuda:0', dtype=torch.float64)\n",
      "tensor(nan, device='cuda:0', dtype=torch.float64)\n",
      "tensor(nan, device='cuda:0', dtype=torch.float64)\n",
      "tensor(nan, device='cuda:0', dtype=torch.float64)\n",
      "tensor(nan, device='cuda:0', dtype=torch.float64)\n",
      "tensor(nan, device='cuda:0', dtype=torch.float64)\n",
      "tensor(nan, device='cuda:0', dtype=torch.float64)\n",
      "tensor(nan, device='cuda:0', dtype=torch.float64)\n",
      "tensor(nan, device='cuda:0', dtype=torch.float64)\n",
      "tensor(nan, device='cuda:0', dtype=torch.float64)\n",
      "tensor(nan, device='cuda:0', dtype=torch.float64)\n",
      "tensor(nan, device='cuda:0', dtype=torch.float64)\n",
      "tensor(nan, device='cuda:0', dtype=torch.float64)\n",
      "tensor(nan, device='cuda:0', dtype=torch.float64)\n",
      "tensor(nan, device='cuda:0', dtype=torch.float64)\n",
      "tensor(nan, device='cuda:0', dtype=torch.float64)\n",
      "tensor(nan, device='cuda:0', dtype=torch.float64)\n",
      "tensor(nan, device='cuda:0', dtype=torch.float64)\n",
      "tensor(nan, device='cuda:0', dtype=torch.float64)\n",
      "tensor(nan, device='cuda:0', dtype=torch.float64)\n",
      "tensor(nan, device='cuda:0', dtype=torch.float64)\n",
      "tensor(nan, device='cuda:0', dtype=torch.float64)\n",
      "tensor(nan, device='cuda:0', dtype=torch.float64)\n",
      "tensor(nan, device='cuda:0', dtype=torch.float64)\n",
      "tensor(nan, device='cuda:0', dtype=torch.float64)\n",
      "tensor(nan, device='cuda:0', dtype=torch.float64)\n",
      "tensor(nan, device='cuda:0', dtype=torch.float64)\n",
      "tensor(nan, device='cuda:0', dtype=torch.float64)\n",
      "tensor(nan, device='cuda:0', dtype=torch.float64)\n",
      "tensor(nan, device='cuda:0', dtype=torch.float64)\n",
      "tensor(nan, device='cuda:0', dtype=torch.float64)\n",
      "tensor(nan, device='cuda:0', dtype=torch.float64)\n",
      "tensor(nan, device='cuda:0', dtype=torch.float64)\n",
      "tensor(nan, device='cuda:0', dtype=torch.float64)\n",
      "tensor(nan, device='cuda:0', dtype=torch.float64)\n",
      "tensor(nan, device='cuda:0', dtype=torch.float64)\n",
      "tensor(nan, device='cuda:0', dtype=torch.float64)\n",
      "tensor(nan, device='cuda:0', dtype=torch.float64)\n",
      "tensor(nan, device='cuda:0', dtype=torch.float64)\n",
      "tensor(nan, device='cuda:0', dtype=torch.float64)\n",
      "tensor(nan, device='cuda:0', dtype=torch.float64)\n",
      "tensor(nan, device='cuda:0', dtype=torch.float64)\n",
      "tensor(nan, device='cuda:0', dtype=torch.float64)\n",
      "tensor(nan, device='cuda:0', dtype=torch.float64)\n",
      "tensor(nan, device='cuda:0', dtype=torch.float64)\n",
      "tensor(nan, device='cuda:0', dtype=torch.float64)\n",
      "tensor(nan, device='cuda:0', dtype=torch.float64)\n",
      "tensor(nan, device='cuda:0', dtype=torch.float64)\n",
      "tensor(nan, device='cuda:0', dtype=torch.float64)\n",
      "tensor(nan, device='cuda:0', dtype=torch.float64)\n",
      "tensor(nan, device='cuda:0', dtype=torch.float64)\n",
      "tensor(nan, device='cuda:0', dtype=torch.float64)\n",
      "tensor(nan, device='cuda:0', dtype=torch.float64)\n",
      "tensor(nan, device='cuda:0', dtype=torch.float64)\n",
      "tensor(nan, device='cuda:0', dtype=torch.float64)\n",
      "tensor(nan, device='cuda:0', dtype=torch.float64)\n",
      "tensor(nan, device='cuda:0', dtype=torch.float64)\n",
      "tensor(nan, device='cuda:0', dtype=torch.float64)\n",
      "tensor(nan, device='cuda:0', dtype=torch.float64)\n",
      "tensor(nan, device='cuda:0', dtype=torch.float64)\n",
      "tensor(nan, device='cuda:0', dtype=torch.float64)\n",
      "tensor(nan, device='cuda:0', dtype=torch.float64)\n",
      "tensor(nan, device='cuda:0', dtype=torch.float64)\n",
      "tensor(nan, device='cuda:0', dtype=torch.float64)\n",
      "tensor(nan, device='cuda:0', dtype=torch.float64)\n",
      "tensor(nan, device='cuda:0', dtype=torch.float64)\n",
      "tensor(nan, device='cuda:0', dtype=torch.float64)\n",
      "tensor(nan, device='cuda:0', dtype=torch.float64)\n",
      "tensor(nan, device='cuda:0', dtype=torch.float64)\n",
      "tensor(nan, device='cuda:0', dtype=torch.float64)\n",
      "tensor(nan, device='cuda:0', dtype=torch.float64)\n",
      "tensor(nan, device='cuda:0', dtype=torch.float64)\n",
      "tensor(nan, device='cuda:0', dtype=torch.float64)\n",
      "tensor(nan, device='cuda:0', dtype=torch.float64)\n",
      "tensor(nan, device='cuda:0', dtype=torch.float64)\n",
      "tensor(nan, device='cuda:0', dtype=torch.float64)\n",
      "tensor(nan, device='cuda:0', dtype=torch.float64)\n",
      "tensor(nan, device='cuda:0', dtype=torch.float64)\n",
      "tensor(nan, device='cuda:0', dtype=torch.float64)\n",
      "tensor(nan, device='cuda:0', dtype=torch.float64)\n",
      "tensor(nan, device='cuda:0', dtype=torch.float64)\n",
      "tensor(nan, device='cuda:0', dtype=torch.float64)\n",
      "tensor(nan, device='cuda:0', dtype=torch.float64)\n",
      "tensor(nan, device='cuda:0', dtype=torch.float64)\n",
      "tensor(nan, device='cuda:0', dtype=torch.float64)\n",
      "tensor(nan, device='cuda:0', dtype=torch.float64)\n",
      "tensor(nan, device='cuda:0', dtype=torch.float64)\n",
      "tensor(nan, device='cuda:0', dtype=torch.float64)\n",
      "tensor(nan, device='cuda:0', dtype=torch.float64)\n",
      "tensor(nan, device='cuda:0', dtype=torch.float64)\n",
      "tensor(nan, device='cuda:0', dtype=torch.float64)\n",
      "tensor(nan, device='cuda:0', dtype=torch.float64)\n",
      "tensor(nan, device='cuda:0', dtype=torch.float64)\n",
      "tensor(nan, device='cuda:0', dtype=torch.float64)\n",
      "tensor(nan, device='cuda:0', dtype=torch.float64)\n",
      "tensor(nan, device='cuda:0', dtype=torch.float64)\n",
      "tensor(nan, device='cuda:0', dtype=torch.float64)\n",
      "tensor(nan, device='cuda:0', dtype=torch.float64)\n",
      "tensor(nan, device='cuda:0', dtype=torch.float64)\n",
      "tensor(nan, device='cuda:0', dtype=torch.float64)\n",
      "tensor(nan, device='cuda:0', dtype=torch.float64)\n",
      "tensor(nan, device='cuda:0', dtype=torch.float64)\n",
      "tensor(nan, device='cuda:0', dtype=torch.float64)\n",
      "tensor(nan, device='cuda:0', dtype=torch.float64)\n",
      "tensor(nan, device='cuda:0', dtype=torch.float64)\n",
      "tensor(nan, device='cuda:0', dtype=torch.float64)\n",
      "tensor(nan, device='cuda:0', dtype=torch.float64)\n",
      "None\n",
      "Cheapest path:\n",
      "0\n"
     ]
    }
   ],
   "source": [
    "def get_cheapest(g):\n",
    "    cursor = g.start\n",
    "    \n",
    "    path = []\n",
    "\n",
    "    print(cursor.id)\n",
    "    \n",
    "    while cursor is not None:\n",
    "        print(cursor.id)\n",
    "        path.append(cursor)\n",
    "\n",
    "        print(f\"L {len(path)}\")\n",
    "        \n",
    "        target = None\n",
    "        cheapest = float('inf')\n",
    "        for t in tqdm(cursor.transitions):\n",
    "            print(t.work_required)\n",
    "            if t.work_required < cheapest:\n",
    "                print(\"Found cheaper!\")\n",
    "                target = t\n",
    "                cheapest = t.work_required\n",
    "        \n",
    "        cursor = target\n",
    "        print(cursor)\n",
    "        \n",
    "    return path\n",
    "\n",
    "path = get_cheapest(g)\n",
    "\n",
    "print(\"Cheapest path:\")\n",
    "for node in path:\n",
    "    print(node.id)"
   ]
  },
  {
   "cell_type": "code",
   "execution_count": 6,
   "metadata": {},
   "outputs": [],
   "source": [
    "# from typing import List\n",
    "\n",
    "# def find_cheapest_path(graph: Graph) -> tuple[float, List[Node]]:\n",
    "#     \"\"\"Finds the cheapest path from start to end using Dijkstra's algorithm.\"\"\"\n",
    "    \n",
    "#     unvisited_nodes = graph.get_nodes()\n",
    "#     print(f\"Got Nodes: {len(unvisited_nodes)}\")\n",
    "\n",
    "#     costs = dict()\n",
    "#     paths = dict()\n",
    "    \n",
    "#     for node in unvisited_nodes:\n",
    "#         costs[node] = float('inf')\n",
    "#         paths[node] = []\n",
    "\n",
    "#     costs[graph.start] = 0\n",
    "#     paths[graph.start] = [graph.start]\n",
    "    \n",
    "#     cursor = graph.start\n",
    "\n",
    "#     while cursor is not None:\n",
    "#         unvisited_nodes.remove(cursor)\n",
    "        \n",
    "#         for transition in cursor.transitions:\n",
    "#             cost = costs[cursor] + transition.work_required\n",
    "#             if costs[transition.target] > cost:\n",
    "#                 costs[transition.target] = cost\n",
    "#                 paths[transition.target] = paths[cursor] + [transition.target]\n",
    "\n",
    "#         cheapest_node = None\n",
    "#         cheapest_cost = float('inf')\n",
    "#         for node, cost in enumerate(costs):\n",
    "#             if node in unvisited_nodes and cost < cheapest_cost:\n",
    "#                 cheapest_node = node\n",
    "#                 cheapest_cost = cost\n",
    "\n",
    "#         cursor = cheapest_node\n",
    "\n",
    "#     return costs[graph.end], paths[graph.end]\n",
    "\n",
    "        \n"
   ]
  },
  {
   "cell_type": "code",
   "execution_count": 7,
   "metadata": {},
   "outputs": [],
   "source": [
    "# cost, cheapest_path = find_cheapest_path(g)\n",
    "\n",
    "# print(f\"Cost: {cost}\")"
   ]
  },
  {
   "cell_type": "code",
   "execution_count": 8,
   "metadata": {},
   "outputs": [],
   "source": [
    "# print([(node.id, node.velocity) for node in cheapest_path])"
   ]
  },
  {
   "cell_type": "code",
   "execution_count": 9,
   "metadata": {},
   "outputs": [],
   "source": [
    "# print(g.get_nodaes())"
   ]
  },
  {
   "cell_type": "code",
   "execution_count": null,
   "metadata": {},
   "outputs": [],
   "source": []
  },
  {
   "cell_type": "code",
   "execution_count": null,
   "metadata": {},
   "outputs": [],
   "source": []
  }
 ],
 "metadata": {
  "kernelspec": {
   "display_name": "Python 3 (ipykernel)",
   "language": "python",
   "name": "python3"
  },
  "language_info": {
   "codemirror_mode": {
    "name": "ipython",
    "version": 3
   },
   "file_extension": ".py",
   "mimetype": "text/x-python",
   "name": "python",
   "nbconvert_exporter": "python",
   "pygments_lexer": "ipython3",
   "version": "3.10.12"
  }
 },
 "nbformat": 4,
 "nbformat_minor": 4
}
