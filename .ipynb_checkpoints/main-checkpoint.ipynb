{
 "cells": [
  {
   "cell_type": "markdown",
   "metadata": {},
   "source": [
    "# Efficiency Simulation"
   ]
  },
  {
   "cell_type": "code",
   "execution_count": 1,
   "metadata": {},
   "outputs": [],
   "source": [
    "from __future__ import annotations\n",
    "from dataclasses import dataclass\n",
    "from coordinates import Location, Checkpoint, device\n",
    "import math as m\n",
    "import copy\n",
    "from collections.abc import Callable\n",
    "\n",
    "from torch import FloatTensor, IntTensor, tensor\n",
    "import torch\n",
    "import torch.autograd.profiler as profiler\n",
    "from tqdm.auto import tqdm"
   ]
  },
  {
   "cell_type": "code",
   "execution_count": 2,
   "metadata": {},
   "outputs": [],
   "source": [
    "from graph import Graph, Node, Transition\n"
   ]
  },
  {
   "cell_type": "code",
   "execution_count": 3,
   "metadata": {},
   "outputs": [
    {
     "name": "stdout",
     "output_type": "stream",
     "text": [
      "Found 2696 checkpoints\n"
     ]
    }
   ],
   "source": [
    "import pandas as pd\n",
    "from coordinates import Checkpoint, Location, device\n",
    "from torch import tensor\n",
    "\n",
    "track_data = pd.read_csv(\"./sem_2023_us.csv\")\n",
    "\n",
    "track_data = track_data.rename(columns={\n",
    "    \"Metres above sea level\": \"Altitude\"\n",
    "})\n",
    "\n",
    "track_data.head(10)\n",
    "\n",
    "checkpoints: list[Checkpoint] = []\n",
    "for i, row in track_data.iterrows():\n",
    "    location = Location(tensor(row[\"Latitude\"], device=device), tensor(row[\"Longitude\"], device=device), tensor(row[\"Altitude\"], device=device))\n",
    "    checkpoints.append(Checkpoint(location, location))\n",
    "\n",
    "print(f\"Found {len(checkpoints)} checkpoints\")"
   ]
  },
  {
   "cell_type": "code",
   "execution_count": 4,
   "metadata": {},
   "outputs": [
    {
     "name": "stderr",
     "output_type": "stream",
     "text": [
      "0it [00:00, ?it/s]"
     ]
    },
    {
     "name": "stdout",
     "output_type": "stream",
     "text": [
      "Processing checkpoint 0. Layer size: 1\n"
     ]
    },
    {
     "name": "stderr",
     "output_type": "stream",
     "text": [
      "\n",
      "100%|█████████████████████████████████████████████| 1/1 [00:00<00:00, 11.39it/s]\u001b[A\n",
      "1it [00:00,  9.10it/s]"
     ]
    },
    {
     "name": "stdout",
     "output_type": "stream",
     "text": [
      "Processing checkpoint 1. Layer size: 121\n"
     ]
    },
    {
     "name": "stderr",
     "output_type": "stream",
     "text": [
      "\n",
      "  0%|                                                   | 0/121 [00:00<?, ?it/s]\u001b[A\n",
      "  2%|▋                                          | 2/121 [00:00<00:10, 10.90it/s]\u001b[A\n",
      "  3%|█▍                                         | 4/121 [00:00<00:11, 10.03it/s]\u001b[A\n",
      "  5%|██▏                                        | 6/121 [00:00<00:11, 10.01it/s]\u001b[A\n",
      "  7%|██▊                                        | 8/121 [00:00<00:11, 10.09it/s]\u001b[A\n",
      "  8%|███▍                                      | 10/121 [00:00<00:10, 10.13it/s]\u001b[A\n",
      " 10%|████▏                                     | 12/121 [00:01<00:10, 10.35it/s]\u001b[A\n",
      " 12%|████▊                                     | 14/121 [00:01<00:10, 10.47it/s]\u001b[A\n",
      " 13%|█████▌                                    | 16/121 [00:01<00:09, 10.77it/s]\u001b[A\n",
      " 15%|██████▏                                   | 18/121 [00:01<00:09, 10.65it/s]\u001b[A\n",
      " 17%|██████▉                                   | 20/121 [00:01<00:09, 10.63it/s]\u001b[A\n",
      " 18%|███████▋                                  | 22/121 [00:02<00:09, 10.79it/s]\u001b[A\n",
      " 20%|████████▎                                 | 24/121 [00:02<00:09, 10.62it/s]\u001b[A\n",
      " 21%|█████████                                 | 26/121 [00:02<00:08, 10.95it/s]\u001b[A\n",
      " 23%|█████████▋                                | 28/121 [00:02<00:08, 10.54it/s]\u001b[A\n",
      " 25%|██████████▍                               | 30/121 [00:02<00:08, 10.37it/s]\u001b[A\n",
      " 26%|███████████                               | 32/121 [00:03<00:08, 10.40it/s]\u001b[A\n",
      " 28%|███████████▊                              | 34/121 [00:03<00:08, 10.85it/s]\u001b[A\n",
      " 30%|████████████▍                             | 36/121 [00:03<00:07, 10.77it/s]\u001b[A\n",
      " 31%|█████████████▏                            | 38/121 [00:03<00:07, 10.80it/s]\u001b[A\n",
      " 33%|█████████████▉                            | 40/121 [00:03<00:07, 10.75it/s]\u001b[A\n",
      " 35%|██████████████▌                           | 42/121 [00:03<00:07, 10.40it/s]\u001b[A\n",
      " 36%|███████████████▎                          | 44/121 [00:04<00:07, 10.46it/s]\u001b[A\n",
      " 38%|███████████████▉                          | 46/121 [00:04<00:07, 10.48it/s]\u001b[A\n",
      " 40%|████████████████▋                         | 48/121 [00:04<00:07, 10.38it/s]\u001b[A\n",
      " 41%|█████████████████▎                        | 50/121 [00:04<00:06, 10.73it/s]\u001b[A\n",
      " 43%|██████████████████                        | 52/121 [00:04<00:06, 10.41it/s]\u001b[A\n",
      " 45%|██████████████████▋                       | 54/121 [00:05<00:06, 10.38it/s]\u001b[A\n",
      " 46%|███████████████████▍                      | 56/121 [00:05<00:06, 10.09it/s]\u001b[A\n",
      " 48%|████████████████████▏                     | 58/121 [00:05<00:06, 10.46it/s]\u001b[A\n",
      " 50%|████████████████████▊                     | 60/121 [00:05<00:05, 11.03it/s]\u001b[A\n",
      " 51%|█████████████████████▌                    | 62/121 [00:05<00:05, 11.19it/s]\u001b[A\n",
      " 53%|██████████████████████▏                   | 64/121 [00:06<00:05, 11.22it/s]\u001b[A\n",
      " 55%|██████████████████████▉                   | 66/121 [00:06<00:04, 11.16it/s]\u001b[A\n",
      " 56%|███████████████████████▌                  | 68/121 [00:06<00:04, 11.01it/s]\u001b[A\n",
      " 58%|████████████████████████▎                 | 70/121 [00:06<00:04, 11.00it/s]\u001b[A\n",
      " 60%|████████████████████████▉                 | 72/121 [00:06<00:04, 10.90it/s]\u001b[A\n",
      " 61%|█████████████████████████▋                | 74/121 [00:06<00:04, 10.99it/s]\u001b[A\n",
      " 63%|██████████████████████████▍               | 76/121 [00:07<00:04, 11.08it/s]\u001b[A\n",
      " 64%|███████████████████████████               | 78/121 [00:07<00:03, 11.30it/s]\u001b[A\n",
      " 66%|███████████████████████████▊              | 80/121 [00:07<00:03, 11.23it/s]\u001b[A\n",
      " 68%|████████████████████████████▍             | 82/121 [00:07<00:03, 11.24it/s]\u001b[A\n",
      " 69%|█████████████████████████████▏            | 84/121 [00:07<00:03, 11.17it/s]\u001b[A\n",
      " 71%|█████████████████████████████▊            | 86/121 [00:08<00:03, 11.14it/s]\u001b[A\n",
      " 73%|██████████████████████████████▌           | 88/121 [00:08<00:02, 11.24it/s]\u001b[A\n",
      " 74%|███████████████████████████████▏          | 90/121 [00:08<00:02, 11.05it/s]\u001b[A\n",
      " 76%|███████████████████████████████▉          | 92/121 [00:08<00:02, 10.77it/s]\u001b[A\n",
      " 78%|████████████████████████████████▋         | 94/121 [00:08<00:02, 11.08it/s]\u001b[A\n",
      " 79%|█████████████████████████████████▎        | 96/121 [00:08<00:02, 11.08it/s]\u001b[A\n",
      " 81%|██████████████████████████████████        | 98/121 [00:09<00:02, 10.99it/s]\u001b[A\n",
      " 83%|█████████████████████████████████▉       | 100/121 [00:09<00:01, 11.06it/s]\u001b[A\n",
      " 84%|██████████████████████████████████▌      | 102/121 [00:09<00:01, 11.04it/s]\u001b[A\n",
      " 86%|███████████████████████████████████▏     | 104/121 [00:09<00:01, 10.90it/s]\u001b[A\n",
      " 88%|███████████████████████████████████▉     | 106/121 [00:09<00:01, 10.85it/s]\u001b[A\n",
      " 89%|████████████████████████████████████▌    | 108/121 [00:10<00:01, 10.78it/s]\u001b[A\n",
      " 91%|█████████████████████████████████████▎   | 110/121 [00:10<00:00, 11.06it/s]\u001b[A\n",
      " 93%|█████████████████████████████████████▉   | 112/121 [00:10<00:00, 11.24it/s]\u001b[A\n",
      " 94%|██████████████████████████████████████▋  | 114/121 [00:10<00:00, 11.04it/s]\u001b[A\n",
      " 96%|███████████████████████████████████████▎ | 116/121 [00:10<00:00, 11.02it/s]\u001b[A\n",
      " 98%|███████████████████████████████████████▉ | 118/121 [00:10<00:00, 11.09it/s]\u001b[A\n",
      "100%|█████████████████████████████████████████| 121/121 [00:11<00:00, 10.79it/s]\u001b[A\n",
      "2it [00:11,  6.66s/it]"
     ]
    },
    {
     "name": "stdout",
     "output_type": "stream",
     "text": [
      "Processing checkpoint 2. Layer size: 121\n"
     ]
    },
    {
     "name": "stderr",
     "output_type": "stream",
     "text": [
      "\n",
      "  0%|                                                   | 0/121 [00:00<?, ?it/s]\u001b[A\n",
      "  2%|▋                                          | 2/121 [00:00<00:11, 10.68it/s]\u001b[A\n",
      "  3%|█▍                                         | 4/121 [00:00<00:10, 10.69it/s]\u001b[A\n",
      "  5%|██▏                                        | 6/121 [00:00<00:11, 10.38it/s]\u001b[A\n",
      "  7%|██▊                                        | 8/121 [00:00<00:11, 10.24it/s]\u001b[A\n",
      "  8%|███▍                                      | 10/121 [00:00<00:10, 10.34it/s]\u001b[A\n",
      " 10%|████▏                                     | 12/121 [00:01<00:10, 10.04it/s]\u001b[A\n",
      " 12%|████▊                                     | 14/121 [00:01<00:10, 10.15it/s]\u001b[A\n",
      " 13%|█████▌                                    | 16/121 [00:01<00:11,  9.54it/s]\u001b[A\n",
      " 15%|██████▏                                   | 18/121 [00:01<00:10, 10.13it/s]\u001b[A\n",
      " 17%|██████▉                                   | 20/121 [00:01<00:09, 10.61it/s]\u001b[A\n",
      " 18%|███████▋                                  | 22/121 [00:02<00:09, 10.98it/s]\u001b[A\n",
      " 20%|████████▎                                 | 24/121 [00:02<00:08, 11.37it/s]\u001b[A\n",
      " 21%|█████████                                 | 26/121 [00:02<00:08, 11.65it/s]\u001b[A\n",
      " 23%|█████████▋                                | 28/121 [00:02<00:07, 11.82it/s]\u001b[A\n",
      " 25%|██████████▍                               | 30/121 [00:02<00:07, 11.55it/s]\u001b[A\n",
      " 26%|███████████                               | 32/121 [00:02<00:08, 11.05it/s]\u001b[A\n",
      " 28%|███████████▊                              | 34/121 [00:03<00:07, 11.19it/s]\u001b[A\n",
      " 30%|████████████▍                             | 36/121 [00:03<00:07, 11.51it/s]\u001b[A\n",
      " 31%|█████████████▏                            | 38/121 [00:03<00:07, 11.74it/s]\u001b[A\n",
      " 33%|█████████████▉                            | 40/121 [00:03<00:06, 11.84it/s]\u001b[A\n",
      " 35%|██████████████▌                           | 42/121 [00:03<00:06, 11.29it/s]\u001b[A\n",
      " 36%|███████████████▎                          | 44/121 [00:04<00:06, 11.45it/s]\u001b[A\n",
      " 38%|███████████████▉                          | 46/121 [00:04<00:06, 11.49it/s]\u001b[A\n",
      " 40%|████████████████▋                         | 48/121 [00:04<00:06, 11.23it/s]\u001b[A\n",
      " 41%|█████████████████▎                        | 50/121 [00:04<00:06, 11.14it/s]\u001b[A\n",
      " 43%|██████████████████                        | 52/121 [00:04<00:06, 11.24it/s]\u001b[A\n",
      " 45%|██████████████████▋                       | 54/121 [00:04<00:05, 11.46it/s]\u001b[A\n",
      " 46%|███████████████████▍                      | 56/121 [00:05<00:05, 11.69it/s]\u001b[A\n",
      " 48%|████████████████████▏                     | 58/121 [00:05<00:05, 11.88it/s]\u001b[A\n",
      " 50%|████████████████████▊                     | 60/121 [00:05<00:05, 11.38it/s]\u001b[A\n",
      " 51%|█████████████████████▌                    | 62/121 [00:05<00:05, 11.33it/s]\u001b[A\n",
      " 53%|██████████████████████▏                   | 64/121 [00:05<00:04, 11.59it/s]\u001b[A\n",
      " 55%|██████████████████████▉                   | 66/121 [00:05<00:04, 11.24it/s]\u001b[A\n",
      " 56%|███████████████████████▌                  | 68/121 [00:06<00:04, 10.93it/s]\u001b[A\n",
      " 58%|████████████████████████▎                 | 70/121 [00:06<00:04, 11.20it/s]\u001b[A\n",
      " 60%|████████████████████████▉                 | 72/121 [00:06<00:04, 11.09it/s]\u001b[A\n",
      " 61%|█████████████████████████▋                | 74/121 [00:06<00:04, 11.13it/s]\u001b[A\n",
      " 63%|██████████████████████████▍               | 76/121 [00:06<00:04, 10.81it/s]\u001b[A\n",
      " 64%|███████████████████████████               | 78/121 [00:07<00:03, 10.88it/s]\u001b[A\n",
      " 66%|███████████████████████████▊              | 80/121 [00:07<00:03, 11.22it/s]\u001b[A\n",
      " 68%|████████████████████████████▍             | 82/121 [00:07<00:03, 11.37it/s]\u001b[A\n",
      " 69%|█████████████████████████████▏            | 84/121 [00:07<00:03, 11.28it/s]\u001b[A\n",
      " 71%|█████████████████████████████▊            | 86/121 [00:07<00:03, 11.11it/s]\u001b[A\n",
      " 73%|██████████████████████████████▌           | 88/121 [00:07<00:03,  9.99it/s]\u001b[A\n",
      " 74%|███████████████████████████████▏          | 90/121 [00:08<00:03, 10.27it/s]\u001b[A\n",
      " 76%|███████████████████████████████▉          | 92/121 [00:08<00:02, 10.35it/s]\u001b[A\n",
      " 78%|████████████████████████████████▋         | 94/121 [00:08<00:02, 10.05it/s]\u001b[A\n",
      " 79%|█████████████████████████████████▎        | 96/121 [00:08<00:02, 10.28it/s]\u001b[A\n",
      " 81%|██████████████████████████████████        | 98/121 [00:08<00:02, 10.55it/s]\u001b[A\n",
      " 83%|█████████████████████████████████▉       | 100/121 [00:09<00:01, 10.64it/s]\u001b[A\n",
      " 84%|██████████████████████████████████▌      | 102/121 [00:09<00:01, 10.71it/s]\u001b[A\n",
      " 86%|███████████████████████████████████▏     | 104/121 [00:09<00:01, 10.96it/s]\u001b[A\n",
      " 88%|███████████████████████████████████▉     | 106/121 [00:09<00:01, 11.30it/s]\u001b[A\n",
      " 89%|████████████████████████████████████▌    | 108/121 [00:09<00:01, 11.57it/s]\u001b[A\n",
      " 91%|█████████████████████████████████████▎   | 110/121 [00:09<00:00, 11.46it/s]\u001b[A\n",
      " 93%|█████████████████████████████████████▉   | 112/121 [00:10<00:00, 11.24it/s]\u001b[A\n",
      " 94%|██████████████████████████████████████▋  | 114/121 [00:10<00:00, 10.92it/s]\u001b[A\n",
      " 96%|███████████████████████████████████████▎ | 116/121 [00:10<00:00, 10.92it/s]\u001b[A\n",
      " 98%|███████████████████████████████████████▉ | 118/121 [00:10<00:00, 10.75it/s]\u001b[A\n",
      "100%|█████████████████████████████████████████| 121/121 [00:11<00:00, 10.97it/s]\u001b[A\n",
      "3it [00:22,  8.66s/it]"
     ]
    },
    {
     "name": "stdout",
     "output_type": "stream",
     "text": [
      "Processing checkpoint 3. Layer size: 121\n"
     ]
    },
    {
     "name": "stderr",
     "output_type": "stream",
     "text": [
      "\n",
      "  0%|                                                   | 0/121 [00:00<?, ?it/s]\u001b[A\n",
      "100%|████████████████████████████████████████| 121/121 [00:00<00:00, 607.47it/s]\u001b[A\n",
      "4it [00:22,  5.65s/it]\n"
     ]
    }
   ],
   "source": [
    "def get_coefficient_of_drag(bearing: float) -> float:\n",
    "    return 0.33\n",
    "\n",
    "def get_projected_area(bearing: float) -> float:\n",
    "    \"\"\"Returns in mm^2\"\"\"\n",
    "    return 943416\n",
    "\n",
    "g = Graph.construct(\n",
    "    checkpoints=checkpoints[:5],\n",
    "    n_points_per_checkpoint=1,\n",
    "    max_velocity=42 * 1000 / 3600,  # Max velocity the car is allowed to go is 42 km/h\n",
    "    velocity_step_size=4000 / 3600,\n",
    "    max_motor_velocity=40 * 1000 / 3600,  # Max velocity the motor is allowed to go is 40 km/h\n",
    "    motor_velocity_step_size=4000 / 3600,\n",
    "    wind_velocity=5000 / 3600,\n",
    "    wind_bearing=200,\n",
    "    mass=1000,\n",
    "    coefficient_of_friction=0.03, # TODO: Figure this out\n",
    "    get_coefficient_of_drag=get_coefficient_of_drag,\n",
    "    get_projected_area=get_projected_area,\n",
    ")"
   ]
  },
  {
   "cell_type": "code",
   "execution_count": 5,
   "metadata": {},
   "outputs": [
    {
     "name": "stdout",
     "output_type": "stream",
     "text": [
      "Hello World!\n"
     ]
    },
    {
     "ename": "KeyboardInterrupt",
     "evalue": "",
     "output_type": "error",
     "traceback": [
      "\u001b[0;31m---------------------------------------------------------------------------\u001b[0m",
      "\u001b[0;31mKeyboardInterrupt\u001b[0m                         Traceback (most recent call last)",
      "Cell \u001b[0;32mIn[5], line 22\u001b[0m\n\u001b[1;32m     19\u001b[0m     \u001b[38;5;28;01mreturn\u001b[39;00m path\n\u001b[1;32m     21\u001b[0m \u001b[38;5;28mprint\u001b[39m(\u001b[38;5;124m\"\u001b[39m\u001b[38;5;124mHello World!\u001b[39m\u001b[38;5;124m\"\u001b[39m)\n\u001b[0;32m---> 22\u001b[0m \u001b[38;5;28;43mprint\u001b[39;49m\u001b[43m(\u001b[49m\u001b[43mg\u001b[49m\u001b[38;5;241;43m.\u001b[39;49m\u001b[43mstart\u001b[49m\u001b[43m)\u001b[49m\n\u001b[1;32m     23\u001b[0m \u001b[38;5;28mprint\u001b[39m(\u001b[38;5;124m\"\u001b[39m\u001b[38;5;124mDone\u001b[39m\u001b[38;5;124m\"\u001b[39m)\n\u001b[1;32m     24\u001b[0m get_cheapest(g)\n",
      "File \u001b[0;32m/usr/lib/python3.10/dataclasses.py:239\u001b[0m, in \u001b[0;36m_recursive_repr.<locals>.wrapper\u001b[0;34m(self)\u001b[0m\n\u001b[1;32m    237\u001b[0m repr_running\u001b[38;5;241m.\u001b[39madd(key)\n\u001b[1;32m    238\u001b[0m \u001b[38;5;28;01mtry\u001b[39;00m:\n\u001b[0;32m--> 239\u001b[0m     result \u001b[38;5;241m=\u001b[39m \u001b[43muser_function\u001b[49m\u001b[43m(\u001b[49m\u001b[38;5;28;43mself\u001b[39;49m\u001b[43m)\u001b[49m\n\u001b[1;32m    240\u001b[0m \u001b[38;5;28;01mfinally\u001b[39;00m:\n\u001b[1;32m    241\u001b[0m     repr_running\u001b[38;5;241m.\u001b[39mdiscard(key)\n",
      "File \u001b[0;32m<string>:3\u001b[0m, in \u001b[0;36m__repr__\u001b[0;34m(self)\u001b[0m\n",
      "File \u001b[0;32m/usr/lib/python3.10/dataclasses.py:239\u001b[0m, in \u001b[0;36m_recursive_repr.<locals>.wrapper\u001b[0;34m(self)\u001b[0m\n\u001b[1;32m    237\u001b[0m repr_running\u001b[38;5;241m.\u001b[39madd(key)\n\u001b[1;32m    238\u001b[0m \u001b[38;5;28;01mtry\u001b[39;00m:\n\u001b[0;32m--> 239\u001b[0m     result \u001b[38;5;241m=\u001b[39m \u001b[43muser_function\u001b[49m\u001b[43m(\u001b[49m\u001b[38;5;28;43mself\u001b[39;49m\u001b[43m)\u001b[49m\n\u001b[1;32m    240\u001b[0m \u001b[38;5;28;01mfinally\u001b[39;00m:\n\u001b[1;32m    241\u001b[0m     repr_running\u001b[38;5;241m.\u001b[39mdiscard(key)\n",
      "File \u001b[0;32m<string>:3\u001b[0m, in \u001b[0;36m__repr__\u001b[0;34m(self)\u001b[0m\n",
      "File \u001b[0;32m/usr/lib/python3.10/dataclasses.py:239\u001b[0m, in \u001b[0;36m_recursive_repr.<locals>.wrapper\u001b[0;34m(self)\u001b[0m\n\u001b[1;32m    237\u001b[0m repr_running\u001b[38;5;241m.\u001b[39madd(key)\n\u001b[1;32m    238\u001b[0m \u001b[38;5;28;01mtry\u001b[39;00m:\n\u001b[0;32m--> 239\u001b[0m     result \u001b[38;5;241m=\u001b[39m \u001b[43muser_function\u001b[49m\u001b[43m(\u001b[49m\u001b[38;5;28;43mself\u001b[39;49m\u001b[43m)\u001b[49m\n\u001b[1;32m    240\u001b[0m \u001b[38;5;28;01mfinally\u001b[39;00m:\n\u001b[1;32m    241\u001b[0m     repr_running\u001b[38;5;241m.\u001b[39mdiscard(key)\n",
      "File \u001b[0;32m<string>:3\u001b[0m, in \u001b[0;36m__repr__\u001b[0;34m(self)\u001b[0m\n",
      "File \u001b[0;32m/usr/lib/python3.10/dataclasses.py:239\u001b[0m, in \u001b[0;36m_recursive_repr.<locals>.wrapper\u001b[0;34m(self)\u001b[0m\n\u001b[1;32m    237\u001b[0m repr_running\u001b[38;5;241m.\u001b[39madd(key)\n\u001b[1;32m    238\u001b[0m \u001b[38;5;28;01mtry\u001b[39;00m:\n\u001b[0;32m--> 239\u001b[0m     result \u001b[38;5;241m=\u001b[39m \u001b[43muser_function\u001b[49m\u001b[43m(\u001b[49m\u001b[38;5;28;43mself\u001b[39;49m\u001b[43m)\u001b[49m\n\u001b[1;32m    240\u001b[0m \u001b[38;5;28;01mfinally\u001b[39;00m:\n\u001b[1;32m    241\u001b[0m     repr_running\u001b[38;5;241m.\u001b[39mdiscard(key)\n",
      "File \u001b[0;32m<string>:3\u001b[0m, in \u001b[0;36m__repr__\u001b[0;34m(self)\u001b[0m\n",
      "File \u001b[0;32m/usr/lib/python3.10/dataclasses.py:239\u001b[0m, in \u001b[0;36m_recursive_repr.<locals>.wrapper\u001b[0;34m(self)\u001b[0m\n\u001b[1;32m    237\u001b[0m repr_running\u001b[38;5;241m.\u001b[39madd(key)\n\u001b[1;32m    238\u001b[0m \u001b[38;5;28;01mtry\u001b[39;00m:\n\u001b[0;32m--> 239\u001b[0m     result \u001b[38;5;241m=\u001b[39m \u001b[43muser_function\u001b[49m\u001b[43m(\u001b[49m\u001b[38;5;28;43mself\u001b[39;49m\u001b[43m)\u001b[49m\n\u001b[1;32m    240\u001b[0m \u001b[38;5;28;01mfinally\u001b[39;00m:\n\u001b[1;32m    241\u001b[0m     repr_running\u001b[38;5;241m.\u001b[39mdiscard(key)\n",
      "File \u001b[0;32m<string>:3\u001b[0m, in \u001b[0;36m__repr__\u001b[0;34m(self)\u001b[0m\n",
      "File \u001b[0;32m/usr/lib/python3.10/dataclasses.py:239\u001b[0m, in \u001b[0;36m_recursive_repr.<locals>.wrapper\u001b[0;34m(self)\u001b[0m\n\u001b[1;32m    237\u001b[0m repr_running\u001b[38;5;241m.\u001b[39madd(key)\n\u001b[1;32m    238\u001b[0m \u001b[38;5;28;01mtry\u001b[39;00m:\n\u001b[0;32m--> 239\u001b[0m     result \u001b[38;5;241m=\u001b[39m \u001b[43muser_function\u001b[49m\u001b[43m(\u001b[49m\u001b[38;5;28;43mself\u001b[39;49m\u001b[43m)\u001b[49m\n\u001b[1;32m    240\u001b[0m \u001b[38;5;28;01mfinally\u001b[39;00m:\n\u001b[1;32m    241\u001b[0m     repr_running\u001b[38;5;241m.\u001b[39mdiscard(key)\n",
      "File \u001b[0;32m<string>:3\u001b[0m, in \u001b[0;36m__repr__\u001b[0;34m(self)\u001b[0m\n",
      "File \u001b[0;32m/usr/lib/python3.10/dataclasses.py:239\u001b[0m, in \u001b[0;36m_recursive_repr.<locals>.wrapper\u001b[0;34m(self)\u001b[0m\n\u001b[1;32m    237\u001b[0m repr_running\u001b[38;5;241m.\u001b[39madd(key)\n\u001b[1;32m    238\u001b[0m \u001b[38;5;28;01mtry\u001b[39;00m:\n\u001b[0;32m--> 239\u001b[0m     result \u001b[38;5;241m=\u001b[39m \u001b[43muser_function\u001b[49m\u001b[43m(\u001b[49m\u001b[38;5;28;43mself\u001b[39;49m\u001b[43m)\u001b[49m\n\u001b[1;32m    240\u001b[0m \u001b[38;5;28;01mfinally\u001b[39;00m:\n\u001b[1;32m    241\u001b[0m     repr_running\u001b[38;5;241m.\u001b[39mdiscard(key)\n",
      "File \u001b[0;32m<string>:3\u001b[0m, in \u001b[0;36m__repr__\u001b[0;34m(self)\u001b[0m\n",
      "File \u001b[0;32m~/Projects/UOSM-RacingSimulator/venv/lib/python3.10/site-packages/torch/_tensor.py:464\u001b[0m, in \u001b[0;36mTensor.__repr__\u001b[0;34m(self, tensor_contents)\u001b[0m\n\u001b[1;32m    460\u001b[0m     \u001b[38;5;28;01mreturn\u001b[39;00m handle_torch_function(\n\u001b[1;32m    461\u001b[0m         Tensor\u001b[38;5;241m.\u001b[39m\u001b[38;5;21m__repr__\u001b[39m, (\u001b[38;5;28mself\u001b[39m,), \u001b[38;5;28mself\u001b[39m, tensor_contents\u001b[38;5;241m=\u001b[39mtensor_contents\n\u001b[1;32m    462\u001b[0m     )\n\u001b[1;32m    463\u001b[0m \u001b[38;5;66;03m# All strings are unicode in Python 3.\u001b[39;00m\n\u001b[0;32m--> 464\u001b[0m \u001b[38;5;28;01mreturn\u001b[39;00m \u001b[43mtorch\u001b[49m\u001b[38;5;241;43m.\u001b[39;49m\u001b[43m_tensor_str\u001b[49m\u001b[38;5;241;43m.\u001b[39;49m\u001b[43m_str\u001b[49m\u001b[43m(\u001b[49m\u001b[38;5;28;43mself\u001b[39;49m\u001b[43m,\u001b[49m\u001b[43m \u001b[49m\u001b[43mtensor_contents\u001b[49m\u001b[38;5;241;43m=\u001b[39;49m\u001b[43mtensor_contents\u001b[49m\u001b[43m)\u001b[49m\n",
      "File \u001b[0;32m~/Projects/UOSM-RacingSimulator/venv/lib/python3.10/site-packages/torch/_tensor_str.py:697\u001b[0m, in \u001b[0;36m_str\u001b[0;34m(self, tensor_contents)\u001b[0m\n\u001b[1;32m    695\u001b[0m \u001b[38;5;28;01mwith\u001b[39;00m torch\u001b[38;5;241m.\u001b[39mno_grad(), torch\u001b[38;5;241m.\u001b[39mutils\u001b[38;5;241m.\u001b[39m_python_dispatch\u001b[38;5;241m.\u001b[39m_disable_current_modes():\n\u001b[1;32m    696\u001b[0m     guard \u001b[38;5;241m=\u001b[39m torch\u001b[38;5;241m.\u001b[39m_C\u001b[38;5;241m.\u001b[39m_DisableFuncTorch()\n\u001b[0;32m--> 697\u001b[0m     \u001b[38;5;28;01mreturn\u001b[39;00m \u001b[43m_str_intern\u001b[49m\u001b[43m(\u001b[49m\u001b[38;5;28;43mself\u001b[39;49m\u001b[43m,\u001b[49m\u001b[43m \u001b[49m\u001b[43mtensor_contents\u001b[49m\u001b[38;5;241;43m=\u001b[39;49m\u001b[43mtensor_contents\u001b[49m\u001b[43m)\u001b[49m\n",
      "File \u001b[0;32m~/Projects/UOSM-RacingSimulator/venv/lib/python3.10/site-packages/torch/_tensor_str.py:617\u001b[0m, in \u001b[0;36m_str_intern\u001b[0;34m(inp, tensor_contents)\u001b[0m\n\u001b[1;32m    615\u001b[0m                     tensor_str \u001b[38;5;241m=\u001b[39m _tensor_str(\u001b[38;5;28mself\u001b[39m\u001b[38;5;241m.\u001b[39mto_dense(), indent)\n\u001b[1;32m    616\u001b[0m                 \u001b[38;5;28;01melse\u001b[39;00m:\n\u001b[0;32m--> 617\u001b[0m                     tensor_str \u001b[38;5;241m=\u001b[39m \u001b[43m_tensor_str\u001b[49m\u001b[43m(\u001b[49m\u001b[38;5;28;43mself\u001b[39;49m\u001b[43m,\u001b[49m\u001b[43m \u001b[49m\u001b[43mindent\u001b[49m\u001b[43m)\u001b[49m\n\u001b[1;32m    619\u001b[0m \u001b[38;5;28;01mif\u001b[39;00m \u001b[38;5;28mself\u001b[39m\u001b[38;5;241m.\u001b[39mlayout \u001b[38;5;241m!=\u001b[39m torch\u001b[38;5;241m.\u001b[39mstrided:\n\u001b[1;32m    620\u001b[0m     suffixes\u001b[38;5;241m.\u001b[39mappend(\u001b[38;5;124m\"\u001b[39m\u001b[38;5;124mlayout=\u001b[39m\u001b[38;5;124m\"\u001b[39m \u001b[38;5;241m+\u001b[39m \u001b[38;5;28mstr\u001b[39m(\u001b[38;5;28mself\u001b[39m\u001b[38;5;241m.\u001b[39mlayout))\n",
      "File \u001b[0;32m~/Projects/UOSM-RacingSimulator/venv/lib/python3.10/site-packages/torch/_tensor_str.py:350\u001b[0m, in \u001b[0;36m_tensor_str\u001b[0;34m(self, indent)\u001b[0m\n\u001b[1;32m    348\u001b[0m \u001b[38;5;28;01melse\u001b[39;00m:\n\u001b[1;32m    349\u001b[0m     formatter \u001b[38;5;241m=\u001b[39m _Formatter(get_summarized_data(\u001b[38;5;28mself\u001b[39m) \u001b[38;5;28;01mif\u001b[39;00m summarize \u001b[38;5;28;01melse\u001b[39;00m \u001b[38;5;28mself\u001b[39m)\n\u001b[0;32m--> 350\u001b[0m     \u001b[38;5;28;01mreturn\u001b[39;00m \u001b[43m_tensor_str_with_formatter\u001b[49m\u001b[43m(\u001b[49m\u001b[38;5;28;43mself\u001b[39;49m\u001b[43m,\u001b[49m\u001b[43m \u001b[49m\u001b[43mindent\u001b[49m\u001b[43m,\u001b[49m\u001b[43m \u001b[49m\u001b[43msummarize\u001b[49m\u001b[43m,\u001b[49m\u001b[43m \u001b[49m\u001b[43mformatter\u001b[49m\u001b[43m)\u001b[49m\n",
      "File \u001b[0;32m~/Projects/UOSM-RacingSimulator/venv/lib/python3.10/site-packages/torch/_tensor_str.py:269\u001b[0m, in \u001b[0;36m_tensor_str_with_formatter\u001b[0;34m(self, indent, summarize, formatter1, formatter2)\u001b[0m\n\u001b[1;32m    266\u001b[0m dim \u001b[38;5;241m=\u001b[39m \u001b[38;5;28mself\u001b[39m\u001b[38;5;241m.\u001b[39mdim()\n\u001b[1;32m    268\u001b[0m \u001b[38;5;28;01mif\u001b[39;00m dim \u001b[38;5;241m==\u001b[39m \u001b[38;5;241m0\u001b[39m:\n\u001b[0;32m--> 269\u001b[0m     \u001b[38;5;28;01mreturn\u001b[39;00m \u001b[43m_scalar_str\u001b[49m\u001b[43m(\u001b[49m\u001b[38;5;28;43mself\u001b[39;49m\u001b[43m,\u001b[49m\u001b[43m \u001b[49m\u001b[43mformatter1\u001b[49m\u001b[43m,\u001b[49m\u001b[43m \u001b[49m\u001b[43mformatter2\u001b[49m\u001b[43m)\u001b[49m\n\u001b[1;32m    271\u001b[0m \u001b[38;5;28;01mif\u001b[39;00m dim \u001b[38;5;241m==\u001b[39m \u001b[38;5;241m1\u001b[39m:\n\u001b[1;32m    272\u001b[0m     \u001b[38;5;28;01mreturn\u001b[39;00m _vector_str(\u001b[38;5;28mself\u001b[39m, indent, summarize, formatter1, formatter2)\n",
      "File \u001b[0;32m~/Projects/UOSM-RacingSimulator/venv/lib/python3.10/site-packages/torch/_tensor_str.py:217\u001b[0m, in \u001b[0;36m_scalar_str\u001b[0;34m(self, formatter1, formatter2)\u001b[0m\n\u001b[1;32m    215\u001b[0m         \u001b[38;5;28;01mreturn\u001b[39;00m real_str \u001b[38;5;241m+\u001b[39m \u001b[38;5;124m\"\u001b[39m\u001b[38;5;124m+\u001b[39m\u001b[38;5;124m\"\u001b[39m \u001b[38;5;241m+\u001b[39m imag_str\n\u001b[1;32m    216\u001b[0m \u001b[38;5;28;01melse\u001b[39;00m:\n\u001b[0;32m--> 217\u001b[0m     \u001b[38;5;28;01mreturn\u001b[39;00m \u001b[43mformatter1\u001b[49m\u001b[38;5;241;43m.\u001b[39;49m\u001b[43mformat\u001b[49m\u001b[43m(\u001b[49m\u001b[38;5;28;43mself\u001b[39;49m\u001b[38;5;241;43m.\u001b[39;49m\u001b[43mitem\u001b[49m\u001b[43m(\u001b[49m\u001b[43m)\u001b[49m\u001b[43m)\u001b[49m\n",
      "File \u001b[0;32m~/Projects/UOSM-RacingSimulator/venv/lib/python3.10/site-packages/torch/_tensor_str.py:201\u001b[0m, in \u001b[0;36m_Formatter.format\u001b[0;34m(self, value)\u001b[0m\n\u001b[1;32m    199\u001b[0m             ret \u001b[38;5;241m+\u001b[39m\u001b[38;5;241m=\u001b[39m \u001b[38;5;124m\"\u001b[39m\u001b[38;5;124m.\u001b[39m\u001b[38;5;124m\"\u001b[39m\n\u001b[1;32m    200\u001b[0m     \u001b[38;5;28;01melse\u001b[39;00m:\n\u001b[0;32m--> 201\u001b[0m         ret \u001b[38;5;241m=\u001b[39m \u001b[38;5;124;43mf\u001b[39;49m\u001b[38;5;124;43m\"\u001b[39;49m\u001b[38;5;130;43;01m{{\u001b[39;49;00m\u001b[38;5;124;43m:.\u001b[39;49m\u001b[38;5;132;43;01m{\u001b[39;49;00m\u001b[43mPRINT_OPTS\u001b[49m\u001b[38;5;241;43m.\u001b[39;49m\u001b[43mprecision\u001b[49m\u001b[38;5;132;43;01m}\u001b[39;49;00m\u001b[38;5;124;43mf\u001b[39;49m\u001b[38;5;130;43;01m}}\u001b[39;49;00m\u001b[38;5;124;43m\"\u001b[39;49m\u001b[38;5;241;43m.\u001b[39;49m\u001b[43mformat\u001b[49m\u001b[43m(\u001b[49m\u001b[43mvalue\u001b[49m\u001b[43m)\u001b[49m\n\u001b[1;32m    202\u001b[0m \u001b[38;5;28;01melse\u001b[39;00m:\n\u001b[1;32m    203\u001b[0m     ret \u001b[38;5;241m=\u001b[39m \u001b[38;5;124mf\u001b[39m\u001b[38;5;124m\"\u001b[39m\u001b[38;5;132;01m{\u001b[39;00mvalue\u001b[38;5;132;01m}\u001b[39;00m\u001b[38;5;124m\"\u001b[39m\n",
      "\u001b[0;31mKeyboardInterrupt\u001b[0m: "
     ]
    }
   ],
   "source": [
    "# def get_cheapest(g):\n",
    "#     cursor = g.start\n",
    "    \n",
    "#     path = []\n",
    "    \n",
    "#     while cursor is not None:\n",
    "#         print(cursor)\n",
    "#         path.append(cursor)\n",
    "        \n",
    "#         target = None\n",
    "#         cheapest = float('inf')\n",
    "#         for t in cursor.transitions:\n",
    "#             if t.work_required < cheapest:\n",
    "#                 target = t\n",
    "#                 cheapest = t.work_required\n",
    "                \n",
    "#         cursor = target\n",
    "        \n",
    "#     return path\n",
    "\n",
    "print(\"Hello World!\")\n",
    "# print(g.start)\n",
    "print(\"Done\")\n",
    "# get_cheapest(g)"
   ]
  },
  {
   "cell_type": "code",
   "execution_count": null,
   "metadata": {},
   "outputs": [],
   "source": [
    "# from typing import List\n",
    "\n",
    "# def find_cheapest_path(graph: Graph) -> tuple[float, List[Node]]:\n",
    "#     \"\"\"Finds the cheapest path from start to end using Dijkstra's algorithm.\"\"\"\n",
    "    \n",
    "#     unvisited_nodes = graph.get_nodes()\n",
    "#     print(f\"Got Nodes: {len(unvisited_nodes)}\")\n",
    "\n",
    "#     costs = dict()\n",
    "#     paths = dict()\n",
    "    \n",
    "#     for node in unvisited_nodes:\n",
    "#         costs[node] = float('inf')\n",
    "#         paths[node] = []\n",
    "\n",
    "#     costs[graph.start] = 0\n",
    "#     paths[graph.start] = [graph.start]\n",
    "    \n",
    "#     cursor = graph.start\n",
    "\n",
    "#     while cursor is not None:\n",
    "#         unvisited_nodes.remove(cursor)\n",
    "        \n",
    "#         for transition in cursor.transitions:\n",
    "#             cost = costs[cursor] + transition.work_required\n",
    "#             if costs[transition.target] > cost:\n",
    "#                 costs[transition.target] = cost\n",
    "#                 paths[transition.target] = paths[cursor] + [transition.target]\n",
    "\n",
    "#         cheapest_node = None\n",
    "#         cheapest_cost = float('inf')\n",
    "#         for node, cost in enumerate(costs):\n",
    "#             if node in unvisited_nodes and cost < cheapest_cost:\n",
    "#                 cheapest_node = node\n",
    "#                 cheapest_cost = cost\n",
    "\n",
    "#         cursor = cheapest_node\n",
    "\n",
    "#     return costs[graph.end], paths[graph.end]\n",
    "\n",
    "        \n"
   ]
  },
  {
   "cell_type": "code",
   "execution_count": null,
   "metadata": {},
   "outputs": [],
   "source": [
    "# cost, cheapest_path = find_cheapest_path(g)\n",
    "\n",
    "# print(f\"Cost: {cost}\")"
   ]
  },
  {
   "cell_type": "code",
   "execution_count": null,
   "metadata": {},
   "outputs": [],
   "source": [
    "# print([(node.id, node.velocity) for node in cheapest_path])"
   ]
  },
  {
   "cell_type": "code",
   "execution_count": null,
   "metadata": {},
   "outputs": [],
   "source": [
    "# print(g.get_nodaes())"
   ]
  },
  {
   "cell_type": "code",
   "execution_count": null,
   "metadata": {},
   "outputs": [],
   "source": []
  },
  {
   "cell_type": "code",
   "execution_count": null,
   "metadata": {},
   "outputs": [],
   "source": []
  }
 ],
 "metadata": {
  "kernelspec": {
   "display_name": "Python 3 (ipykernel)",
   "language": "python",
   "name": "python3"
  },
  "language_info": {
   "codemirror_mode": {
    "name": "ipython",
    "version": 3
   },
   "file_extension": ".py",
   "mimetype": "text/x-python",
   "name": "python",
   "nbconvert_exporter": "python",
   "pygments_lexer": "ipython3",
   "version": "3.10.12"
  }
 },
 "nbformat": 4,
 "nbformat_minor": 4
}
